{
 "cells": [
  {
   "cell_type": "code",
   "execution_count": 150,
   "id": "db5a9caa",
   "metadata": {},
   "outputs": [],
   "source": [
    "import numpy as np\n",
    "import pandas as pd\n",
    "import matplotlib.pyplot as plt\n",
    "from sklearn.model_selection import train_test_split\n",
    "import os\n",
    "from PIL import Image\n"
   ]
  },
  {
   "cell_type": "code",
   "execution_count": 151,
   "id": "ac782f80",
   "metadata": {
    "scrolled": true
   },
   "outputs": [
    {
     "data": {
      "text/html": [
       "<div>\n",
       "<style scoped>\n",
       "    .dataframe tbody tr th:only-of-type {\n",
       "        vertical-align: middle;\n",
       "    }\n",
       "\n",
       "    .dataframe tbody tr th {\n",
       "        vertical-align: top;\n",
       "    }\n",
       "\n",
       "    .dataframe thead th {\n",
       "        text-align: right;\n",
       "    }\n",
       "</style>\n",
       "<table border=\"1\" class=\"dataframe\">\n",
       "  <thead>\n",
       "    <tr style=\"text-align: right;\">\n",
       "      <th></th>\n",
       "      <th>patient_name</th>\n",
       "      <th>path</th>\n",
       "      <th>histo_label</th>\n",
       "      <th>global_id</th>\n",
       "    </tr>\n",
       "  </thead>\n",
       "  <tbody>\n",
       "    <tr>\n",
       "      <th>0</th>\n",
       "      <td>B1_0</td>\n",
       "      <td>0_001.Jpg</td>\n",
       "      <td>1</td>\n",
       "      <td>0</td>\n",
       "    </tr>\n",
       "    <tr>\n",
       "      <th>1</th>\n",
       "      <td>B1_0</td>\n",
       "      <td>0_002.Jpg</td>\n",
       "      <td>1</td>\n",
       "      <td>1</td>\n",
       "    </tr>\n",
       "    <tr>\n",
       "      <th>2</th>\n",
       "      <td>B1_0</td>\n",
       "      <td>0_003.Jpg</td>\n",
       "      <td>1</td>\n",
       "      <td>2</td>\n",
       "    </tr>\n",
       "    <tr>\n",
       "      <th>3</th>\n",
       "      <td>B1_0</td>\n",
       "      <td>0_004.Jpg</td>\n",
       "      <td>1</td>\n",
       "      <td>3</td>\n",
       "    </tr>\n",
       "    <tr>\n",
       "      <th>4</th>\n",
       "      <td>B1_0</td>\n",
       "      <td>0_005.Jpg</td>\n",
       "      <td>1</td>\n",
       "      <td>4</td>\n",
       "    </tr>\n",
       "    <tr>\n",
       "      <th>...</th>\n",
       "      <td>...</td>\n",
       "      <td>...</td>\n",
       "      <td>...</td>\n",
       "      <td>...</td>\n",
       "    </tr>\n",
       "    <tr>\n",
       "      <th>8495</th>\n",
       "      <td>B2_241</td>\n",
       "      <td>241_019_180801.Jpg</td>\n",
       "      <td>1</td>\n",
       "      <td>8495</td>\n",
       "    </tr>\n",
       "    <tr>\n",
       "      <th>8496</th>\n",
       "      <td>B2_241</td>\n",
       "      <td>241_020_180801.Jpg</td>\n",
       "      <td>1</td>\n",
       "      <td>8496</td>\n",
       "    </tr>\n",
       "    <tr>\n",
       "      <th>8497</th>\n",
       "      <td>B2_241</td>\n",
       "      <td>241_021_180801.Jpg</td>\n",
       "      <td>1</td>\n",
       "      <td>8497</td>\n",
       "    </tr>\n",
       "    <tr>\n",
       "      <th>8498</th>\n",
       "      <td>B2_241</td>\n",
       "      <td>241_022_180801.Jpg</td>\n",
       "      <td>1</td>\n",
       "      <td>8498</td>\n",
       "    </tr>\n",
       "    <tr>\n",
       "      <th>8499</th>\n",
       "      <td>B2_241</td>\n",
       "      <td>241_023_180801.Jpg</td>\n",
       "      <td>1</td>\n",
       "      <td>8499</td>\n",
       "    </tr>\n",
       "  </tbody>\n",
       "</table>\n",
       "<p>8500 rows × 4 columns</p>\n",
       "</div>"
      ],
      "text/plain": [
       "     patient_name                path  histo_label  global_id\n",
       "0            B1_0           0_001.Jpg            1          0\n",
       "1            B1_0           0_002.Jpg            1          1\n",
       "2            B1_0           0_003.Jpg            1          2\n",
       "3            B1_0           0_004.Jpg            1          3\n",
       "4            B1_0           0_005.Jpg            1          4\n",
       "...           ...                 ...          ...        ...\n",
       "8495       B2_241  241_019_180801.Jpg            1       8495\n",
       "8496       B2_241  241_020_180801.Jpg            1       8496\n",
       "8497       B2_241  241_021_180801.Jpg            1       8497\n",
       "8498       B2_241  241_022_180801.Jpg            1       8498\n",
       "8499       B2_241  241_023_180801.Jpg            1       8499\n",
       "\n",
       "[8500 rows x 4 columns]"
      ]
     },
     "execution_count": 151,
     "metadata": {},
     "output_type": "execute_result"
    }
   ],
   "source": [
    "#DATAFRAME bring all the data togather \n",
    "Data = pd.read_csv('combined_image_label_dataset.csv')\n",
    "Data"
   ]
  },
  {
   "cell_type": "code",
   "execution_count": 152,
   "id": "ed5891f3",
   "metadata": {},
   "outputs": [
    {
     "data": {
      "text/html": [
       "<div>\n",
       "<style scoped>\n",
       "    .dataframe tbody tr th:only-of-type {\n",
       "        vertical-align: middle;\n",
       "    }\n",
       "\n",
       "    .dataframe tbody tr th {\n",
       "        vertical-align: top;\n",
       "    }\n",
       "\n",
       "    .dataframe thead th {\n",
       "        text-align: right;\n",
       "    }\n",
       "</style>\n",
       "<table border=\"1\" class=\"dataframe\">\n",
       "  <thead>\n",
       "    <tr style=\"text-align: right;\">\n",
       "      <th></th>\n",
       "      <th>patient_name</th>\n",
       "      <th>path</th>\n",
       "      <th>histo_label</th>\n",
       "      <th>global_id</th>\n",
       "    </tr>\n",
       "  </thead>\n",
       "  <tbody>\n",
       "    <tr>\n",
       "      <th>0</th>\n",
       "      <td>B1_1</td>\n",
       "      <td>1_001.Jpg</td>\n",
       "      <td>0</td>\n",
       "      <td>6</td>\n",
       "    </tr>\n",
       "    <tr>\n",
       "      <th>1</th>\n",
       "      <td>B1_1</td>\n",
       "      <td>1_002.Jpg</td>\n",
       "      <td>0</td>\n",
       "      <td>7</td>\n",
       "    </tr>\n",
       "    <tr>\n",
       "      <th>2</th>\n",
       "      <td>B1_1</td>\n",
       "      <td>1_003.Jpg</td>\n",
       "      <td>0</td>\n",
       "      <td>8</td>\n",
       "    </tr>\n",
       "    <tr>\n",
       "      <th>3</th>\n",
       "      <td>B1_1</td>\n",
       "      <td>1_004.Jpg</td>\n",
       "      <td>0</td>\n",
       "      <td>9</td>\n",
       "    </tr>\n",
       "    <tr>\n",
       "      <th>4</th>\n",
       "      <td>B1_1</td>\n",
       "      <td>1_005.Jpg</td>\n",
       "      <td>0</td>\n",
       "      <td>10</td>\n",
       "    </tr>\n",
       "    <tr>\n",
       "      <th>...</th>\n",
       "      <td>...</td>\n",
       "      <td>...</td>\n",
       "      <td>...</td>\n",
       "      <td>...</td>\n",
       "    </tr>\n",
       "    <tr>\n",
       "      <th>2990</th>\n",
       "      <td>B2_240</td>\n",
       "      <td>240_007_182509.Jpg</td>\n",
       "      <td>0</td>\n",
       "      <td>8480</td>\n",
       "    </tr>\n",
       "    <tr>\n",
       "      <th>2991</th>\n",
       "      <td>B2_240</td>\n",
       "      <td>240_008_182509.Jpg</td>\n",
       "      <td>0</td>\n",
       "      <td>8481</td>\n",
       "    </tr>\n",
       "    <tr>\n",
       "      <th>2992</th>\n",
       "      <td>B2_240</td>\n",
       "      <td>240_009_182509.Jpg</td>\n",
       "      <td>0</td>\n",
       "      <td>8482</td>\n",
       "    </tr>\n",
       "    <tr>\n",
       "      <th>2993</th>\n",
       "      <td>B2_240</td>\n",
       "      <td>240_010_182509.Jpg</td>\n",
       "      <td>0</td>\n",
       "      <td>8483</td>\n",
       "    </tr>\n",
       "    <tr>\n",
       "      <th>2994</th>\n",
       "      <td>B2_240</td>\n",
       "      <td>240_011_182509.Jpg</td>\n",
       "      <td>0</td>\n",
       "      <td>8484</td>\n",
       "    </tr>\n",
       "  </tbody>\n",
       "</table>\n",
       "<p>2995 rows × 4 columns</p>\n",
       "</div>"
      ],
      "text/plain": [
       "     patient_name                path  histo_label  global_id\n",
       "0            B1_1           1_001.Jpg            0          6\n",
       "1            B1_1           1_002.Jpg            0          7\n",
       "2            B1_1           1_003.Jpg            0          8\n",
       "3            B1_1           1_004.Jpg            0          9\n",
       "4            B1_1           1_005.Jpg            0         10\n",
       "...           ...                 ...          ...        ...\n",
       "2990       B2_240  240_007_182509.Jpg            0       8480\n",
       "2991       B2_240  240_008_182509.Jpg            0       8481\n",
       "2992       B2_240  240_009_182509.Jpg            0       8482\n",
       "2993       B2_240  240_010_182509.Jpg            0       8483\n",
       "2994       B2_240  240_011_182509.Jpg            0       8484\n",
       "\n",
       "[2995 rows x 4 columns]"
      ]
     },
     "execution_count": 152,
     "metadata": {},
     "output_type": "execute_result"
    }
   ],
   "source": [
    "dataframe1=pd.read_excel('histo_label_0.xlsx')\n",
    "dataframe1"
   ]
  },
  {
   "cell_type": "code",
   "execution_count": 153,
   "id": "62777d95",
   "metadata": {
    "scrolled": true
   },
   "outputs": [
    {
     "data": {
      "text/html": [
       "<div>\n",
       "<style scoped>\n",
       "    .dataframe tbody tr th:only-of-type {\n",
       "        vertical-align: middle;\n",
       "    }\n",
       "\n",
       "    .dataframe tbody tr th {\n",
       "        vertical-align: top;\n",
       "    }\n",
       "\n",
       "    .dataframe thead th {\n",
       "        text-align: right;\n",
       "    }\n",
       "</style>\n",
       "<table border=\"1\" class=\"dataframe\">\n",
       "  <thead>\n",
       "    <tr style=\"text-align: right;\">\n",
       "      <th></th>\n",
       "      <th>patient_name</th>\n",
       "      <th>path</th>\n",
       "      <th>histo_label</th>\n",
       "      <th>global_id</th>\n",
       "    </tr>\n",
       "  </thead>\n",
       "  <tbody>\n",
       "    <tr>\n",
       "      <th>0</th>\n",
       "      <td>B1_0</td>\n",
       "      <td>0_001.Jpg</td>\n",
       "      <td>1</td>\n",
       "      <td>0</td>\n",
       "    </tr>\n",
       "    <tr>\n",
       "      <th>1</th>\n",
       "      <td>B1_0</td>\n",
       "      <td>0_002.Jpg</td>\n",
       "      <td>1</td>\n",
       "      <td>1</td>\n",
       "    </tr>\n",
       "    <tr>\n",
       "      <th>2</th>\n",
       "      <td>B1_0</td>\n",
       "      <td>0_003.Jpg</td>\n",
       "      <td>1</td>\n",
       "      <td>2</td>\n",
       "    </tr>\n",
       "    <tr>\n",
       "      <th>3</th>\n",
       "      <td>B1_0</td>\n",
       "      <td>0_004.Jpg</td>\n",
       "      <td>1</td>\n",
       "      <td>3</td>\n",
       "    </tr>\n",
       "    <tr>\n",
       "      <th>4</th>\n",
       "      <td>B1_0</td>\n",
       "      <td>0_005.Jpg</td>\n",
       "      <td>1</td>\n",
       "      <td>4</td>\n",
       "    </tr>\n",
       "    <tr>\n",
       "      <th>...</th>\n",
       "      <td>...</td>\n",
       "      <td>...</td>\n",
       "      <td>...</td>\n",
       "      <td>...</td>\n",
       "    </tr>\n",
       "    <tr>\n",
       "      <th>5500</th>\n",
       "      <td>B2_241</td>\n",
       "      <td>241_019_180801.Jpg</td>\n",
       "      <td>1</td>\n",
       "      <td>8495</td>\n",
       "    </tr>\n",
       "    <tr>\n",
       "      <th>5501</th>\n",
       "      <td>B2_241</td>\n",
       "      <td>241_020_180801.Jpg</td>\n",
       "      <td>1</td>\n",
       "      <td>8496</td>\n",
       "    </tr>\n",
       "    <tr>\n",
       "      <th>5502</th>\n",
       "      <td>B2_241</td>\n",
       "      <td>241_021_180801.Jpg</td>\n",
       "      <td>1</td>\n",
       "      <td>8497</td>\n",
       "    </tr>\n",
       "    <tr>\n",
       "      <th>5503</th>\n",
       "      <td>B2_241</td>\n",
       "      <td>241_022_180801.Jpg</td>\n",
       "      <td>1</td>\n",
       "      <td>8498</td>\n",
       "    </tr>\n",
       "    <tr>\n",
       "      <th>5504</th>\n",
       "      <td>B2_241</td>\n",
       "      <td>241_023_180801.Jpg</td>\n",
       "      <td>1</td>\n",
       "      <td>8499</td>\n",
       "    </tr>\n",
       "  </tbody>\n",
       "</table>\n",
       "<p>5505 rows × 4 columns</p>\n",
       "</div>"
      ],
      "text/plain": [
       "     patient_name                path  histo_label  global_id\n",
       "0            B1_0           0_001.Jpg            1          0\n",
       "1            B1_0           0_002.Jpg            1          1\n",
       "2            B1_0           0_003.Jpg            1          2\n",
       "3            B1_0           0_004.Jpg            1          3\n",
       "4            B1_0           0_005.Jpg            1          4\n",
       "...           ...                 ...          ...        ...\n",
       "5500       B2_241  241_019_180801.Jpg            1       8495\n",
       "5501       B2_241  241_020_180801.Jpg            1       8496\n",
       "5502       B2_241  241_021_180801.Jpg            1       8497\n",
       "5503       B2_241  241_022_180801.Jpg            1       8498\n",
       "5504       B2_241  241_023_180801.Jpg            1       8499\n",
       "\n",
       "[5505 rows x 4 columns]"
      ]
     },
     "execution_count": 153,
     "metadata": {},
     "output_type": "execute_result"
    }
   ],
   "source": [
    "dataframe2=pd.read_excel('histo_label_1.xlsx')\n",
    "dataframe2"
   ]
  },
  {
   "cell_type": "code",
   "execution_count": 154,
   "id": "7b7767fa",
   "metadata": {},
   "outputs": [
    {
     "name": "stdout",
     "output_type": "stream",
     "text": [
      "Total images found: 8508\n",
      "500 images loaded...\n",
      "1000 images loaded...\n",
      "1500 images loaded...\n",
      "2000 images loaded...\n",
      "2500 images loaded...\n",
      "3000 images loaded...\n",
      "3500 images loaded...\n",
      "4000 images loaded...\n",
      "4500 images loaded...\n",
      "5000 images loaded...\n",
      "5500 images loaded...\n",
      "6000 images loaded...\n",
      "6500 images loaded...\n",
      "7000 images loaded...\n",
      "7500 images loaded...\n",
      "8000 images loaded...\n",
      "8500 images loaded...\n",
      "\n",
      "✅ All images loaded and stored! Shape: (8508, 224, 224, 3)\n"
     ]
    }
   ],
   "source": [
    "image_folder2 = \"C:/Users/nalla/OneDrive/ドキュメント/Research data sets/dataset\"\n",
    "\n",
    "# List all .JPG or .jpg files\n",
    "image_paths2 = [\n",
    "    os.path.join(image_folder2, file)\n",
    "    for file in os.listdir(image_folder2)\n",
    "    if file.lower().endswith('.jpg')\n",
    "]\n",
    "\n",
    "print(f\"Total images found: {len(image_paths2)}\")\n",
    "\n",
    "# List to store all image arrays\n",
    "image_data2 = []\n",
    "valid_path2=[]\n",
    "\n",
    "# Loop through all images\n",
    "for idx, path in enumerate(image_paths2):\n",
    "    try:\n",
    "        img = Image.open(path).convert('RGB')  \n",
    "        img_resized = img.resize((224, 224))   \n",
    "        img_array = np.array(img_resized)      \n",
    "        image_data2.append(img_array)           \n",
    "        valid_path2.append(os.path.basename(path))\n",
    "        \n",
    "        # Progress check every 500 images\n",
    "        if (idx + 1) % 500 == 0:\n",
    "            print(f\"{idx + 1} images loaded...\")\n",
    "\n",
    "    except Exception as e:\n",
    "        print(f\"Error loading {path}: {e}\")\n",
    "\n",
    "# Convert list to NumPy array\n",
    "image_data2 = np.array(image_data2)\n",
    "\n",
    "print(f\"\\n✅ All images loaded and stored! Shape: {image_data2.shape}\")\n",
    "\n"
   ]
  },
  {
   "cell_type": "code",
   "execution_count": 251,
   "id": "eb7d418b",
   "metadata": {},
   "outputs": [
    {
     "name": "stdout",
     "output_type": "stream",
     "text": [
      "🔁 Duplicate filenames in valid_paths: 0\n",
      "✅ Matched: 2214 out of 2995\n",
      "❌ Unmatched images: 781\n",
      "Sample unmatched: ['404_002.jpg', '83_006.jpg', '561_007.jpg', '325_017.jpg', '592_008.jpg', '583_027.jpg', '142_005.jpg', '343_012.jpg', '599_004.jpg', '494_014.jpg']\n",
      "🔁 Duplicate filenames in valid_paths: 0\n",
      "✅ Matched: 3679 out of 5505\n",
      "❌ Unmatched images: 1826\n",
      "Sample unmatched: ['223_011.jpg', '396_003.jpg', '596_075.jpg', '84_010.jpg', '224_005.jpg', '16_013.jpg', '227_040.jpg', '519_009.jpg', '475_024.jpg', '249_003.jpg']\n"
     ]
    }
   ],
   "source": [
    "import os\n",
    "import numpy as np\n",
    "import pandas as pd\n",
    "import unicodedata\n",
    "from collections import Counter\n",
    "\n",
    "# === 1. Helper to normalize filenames ===\n",
    "def clean_filename(p):\n",
    "    name = os.path.basename(p)\n",
    "    name = unicodedata.normalize('NFKC', name).strip().lower()  # Normalize unicode + lowercase\n",
    "    name = os.path.splitext(name)[0] + '.jpg'  # Force .jpg extension\n",
    "    return name\n",
    "\n",
    "# === 2. Combine image arrays and paths ===\n",
    "all_images =  image_data2\n",
    "valid_paths =  valid_path2\n",
    "\n",
    "# === 3. Normalize valid image filenames ===\n",
    "valid_filenames = [clean_filename(p) for p in valid_paths]\n",
    "\n",
    "# === 4. Normalize DataFrame path column ===\n",
    "dataframe1['path'] = dataframe1['path'].apply(clean_filename)\n",
    "\n",
    "# === 5. Check for duplicates ===\n",
    "dupes = [item for item, count in Counter(valid_filenames).items() if count > 1]\n",
    "print(f\"🔁 Duplicate filenames in valid_paths: {len(dupes)}\")\n",
    "\n",
    "# === 6. Create dict from filename → image ===\n",
    "image_dict = dict(zip(valid_filenames, all_images))  # if duplicates exist, only last one is kept\n",
    "\n",
    "# === 7. Filter and match DataFrame to available images ===\n",
    "filtered_df = dataframe1[dataframe1['path'].isin(image_dict.keys())].reset_index(drop=True)\n",
    "print(f\"✅ Matched: {filtered_df.shape[0]} out of {dataframe1.shape[0]}\")\n",
    "filtered_images = [image_dict[clean_filename(p)] for p in filtered_df['path']]\n",
    "image_data0 = np.array(filtered_images)  # This is a numpy array of images\n",
    "labels0 = filtered_df['histo_label'].values \n",
    "\n",
    "# === 8. Debug unmatched entries ===\n",
    "unmatched_paths = set(dataframe1['path']) - set(image_dict.keys())\n",
    "if unmatched_paths:\n",
    "    print(f\"❌ Unmatched images: {len(unmatched_paths)}\")\n",
    "    print(\"Sample unmatched:\", list(unmatched_paths)[:10])\n",
    "    \n",
    "\n",
    "    \n",
    "dataframe2['path'] = dataframe2['path'].apply(clean_filename)\n",
    "\n",
    "# === 5. Check for duplicates ===\n",
    "dupes = [item for item, count in Counter(valid_filenames).items() if count > 1]\n",
    "print(f\"🔁 Duplicate filenames in valid_paths: {len(dupes)}\")\n",
    "\n",
    "# === 6. Create dict from filename → image ===\n",
    "image_dict = dict(zip(valid_filenames, all_images))  # if duplicates exist, only last one is kept\n",
    "\n",
    "# === 7. Filter and match DataFrame to available images ===\n",
    "filtered_df1 = dataframe2[dataframe2['path'].isin(image_dict.keys())].reset_index(drop=True)\n",
    "print(f\"✅ Matched: {filtered_df1.shape[0]} out of {dataframe2.shape[0]}\")\n",
    "filtered_images2 = [image_dict[clean_filename(p)] for p in filtered_df1['path']]\n",
    "image_data1 = np.array(filtered_images2)  # This is a numpy array of images\n",
    "labels1 = filtered_df1['histo_label'].values \n",
    "\n",
    "\n",
    "# === 8. Debug unmatched entries ===\n",
    "unmatched_paths = set(dataframe2['path']) - set(image_dict.keys())\n",
    "if unmatched_paths:\n",
    "    print(f\"❌ Unmatched images: {len(unmatched_paths)}\")\n",
    "    print(\"Sample unmatched:\", list(unmatched_paths)[:10])\n",
    "    \n",
    "combined_dataset0 = list(zip(image_data0, labels0)) \n",
    "combined_dataset1 = list(zip(image_data1, labels1)) "
   ]
  },
  {
   "cell_type": "code",
   "execution_count": 252,
   "id": "ef6b9976",
   "metadata": {},
   "outputs": [],
   "source": [
    "\n",
    "df_combined0 = pd.DataFrame(combined_dataset0, columns=['image', 'label'])\n",
    "df_combined1 = pd.DataFrame(combined_dataset1, columns=['image', 'label'])\n",
    "\n"
   ]
  },
  {
   "cell_type": "code",
   "execution_count": 253,
   "id": "24790271",
   "metadata": {},
   "outputs": [
    {
     "name": "stdout",
     "output_type": "stream",
     "text": [
      "✅ Sample loaded: image shape = torch.Size([3, 224, 224]), label = 0\n"
     ]
    }
   ],
   "source": [
    "import torch\n",
    "from torch.utils.data import Dataset, DataLoader\n",
    "import pandas as pd\n",
    "from torchvision import transforms\n",
    "from PIL import Image\n",
    "import numpy as np\n",
    "\n",
    "# Step 2: Convert to a DataFrame\n",
    "df_combined0 = pd.DataFrame(combined_dataset0, columns=['image', 'label'])\n",
    "assert df_combined0['image'].isnull().sum() == 0, \"Some images are None!\"\n",
    "\n",
    "# Step 4: Define the transform\n",
    "your_transform_here = transforms.Compose([\n",
    "    transforms.ToPILImage(),  # Convert numpy array to PIL Image\n",
    "    transforms.Resize((224, 224)),  # Resize image\n",
    "    transforms.ToTensor(),  # Convert to tensor and normalize to [0, 1]\n",
    "    transforms.Normalize(mean=[0.5], std=[0.5])  # For grayscale; change for RGB\n",
    "])\n",
    "\n",
    "# Step 5: Define the custom Dataset class\n",
    "class ImageDatasetFromDataFrame(Dataset):\n",
    "    def __init__(self, dataframe, transform=None):\n",
    "        self.dataframe = dataframe\n",
    "        self.transform = transform\n",
    "\n",
    "    def __len__(self):\n",
    "        return len(self.dataframe)\n",
    "\n",
    "    def __getitem__(self, idx):\n",
    "        image = self.dataframe.iloc[idx]['image']\n",
    "        label = self.dataframe.iloc[idx]['label']\n",
    "\n",
    "        if isinstance(image, np.ndarray) and self.transform:\n",
    "            image = self.transform(image)\n",
    "\n",
    "        return image, torch.tensor(label, dtype=torch.long)\n",
    "\n",
    "# Step 6: Instantiate the Dataset\n",
    "custom_dataset0 = ImageDatasetFromDataFrame(df_combined0, transform=your_transform_here)\n",
    "\n",
    "# Step 7: Try sampling\n",
    "sample_image, sample_label = custom_dataset0[0]\n",
    "print(f\"✅ Sample loaded: image shape = {sample_image.shape}, label = {sample_label}\")\n"
   ]
  },
  {
   "cell_type": "code",
   "execution_count": 254,
   "id": "da79884d",
   "metadata": {},
   "outputs": [
    {
     "name": "stdout",
     "output_type": "stream",
     "text": [
      "✅ Sample loaded: image shape = torch.Size([3, 224, 224]), label = 1\n"
     ]
    }
   ],
   "source": [
    "\n",
    "df_combined1 = pd.DataFrame(combined_dataset1, columns=['image', 'label'])\n",
    "assert df_combined0['image'].isnull().sum() == 0, \"Some images are None!\"\n",
    "your_transform_here = transforms.Compose([\n",
    "    transforms.ToPILImage(),  \n",
    "    transforms.Resize((224, 224)),  \n",
    "    transforms.ToTensor(),  \n",
    "    transforms.Normalize(mean=[0.5], std=[0.5]) \n",
    "])\n",
    "class ImageDatasetFromDataFrame(Dataset):\n",
    "    def __init__(self, dataframe, transform=None):\n",
    "        self.dataframe = dataframe\n",
    "        self.transform = transform\n",
    "\n",
    "    def __len__(self):\n",
    "        return len(self.dataframe)\n",
    "\n",
    "    def __getitem__(self, idx):\n",
    "        image = self.dataframe.iloc[idx]['image']\n",
    "        label = self.dataframe.iloc[idx]['label']\n",
    "\n",
    "        if isinstance(image, np.ndarray) and self.transform:\n",
    "            image = self.transform(image)\n",
    "\n",
    "        return image, torch.tensor(label, dtype=torch.long)\n",
    "\n",
    "\n",
    "custom_dataset1 = ImageDatasetFromDataFrame(df_combined1, transform=your_transform_here)\n",
    "sample_image, sample_label = custom_dataset1[0]\n",
    "print(f\"✅ Sample loaded: image shape = {sample_image.shape}, label = {sample_label}\")\n"
   ]
  },
  {
   "cell_type": "code",
   "execution_count": 255,
   "id": "e670a2bb",
   "metadata": {},
   "outputs": [
    {
     "name": "stdout",
     "output_type": "stream",
     "text": [
      "✅ Split done — Train: 1549, Validation: 332, Test: 333\n"
     ]
    }
   ],
   "source": [
    "from torch.utils.data import random_split\n",
    "\n",
    "# Total size of custom_dataset\n",
    "total_size = len(custom_dataset0)\n",
    "\n",
    "# Define split ratios\n",
    "splits = {\n",
    "    '60-20-20': [0.6, 0.2, 0.2],\n",
    "    '70-15-15': [0.7, 0.15, 0.15],\n",
    "    '65-15-20': [0.65, 0.15, 0.2],\n",
    "    '75-15-10': [0.75, 0.15, 0.1],\n",
    "    '80-10-10': [0.8, 0.1, 0.1],\n",
    "}\n",
    "\n",
    "# Choose a split\n",
    "split = splits['70-15-15']\n",
    "\n",
    "# Compute split lengths\n",
    "train_len = int(split[0] * total_size)\n",
    "val_len = int(split[1] * total_size)\n",
    "test_len = total_size - train_len - val_len\n",
    "\n",
    "# Apply random_split to your custom PyTorch dataset\n",
    "train_set_0, val_set_0, test_set_0 = random_split(custom_dataset0, [train_len, val_len, test_len])\n",
    "\n",
    "print(f\"✅ Split done — Train: {len(train_set_0)}, Validation: {len(val_set_0)}, Test: {len(test_set_0)}\")\n"
   ]
  },
  {
   "cell_type": "code",
   "execution_count": 256,
   "id": "ac4a8166",
   "metadata": {},
   "outputs": [
    {
     "name": "stdout",
     "output_type": "stream",
     "text": [
      "✅ Split done — Train: 2575, Validation: 551, Test: 553\n"
     ]
    }
   ],
   "source": [
    "from torch.utils.data import random_split\n",
    "\n",
    "# Total size of custom_dataset\n",
    "total_size = len(custom_dataset1)\n",
    "\n",
    "# Define split ratios\n",
    "splits = {\n",
    "    '60-20-20': [0.6, 0.2, 0.2],\n",
    "    '70-15-15': [0.7, 0.15, 0.15],\n",
    "    '65-15-20': [0.65, 0.15, 0.2],\n",
    "    '75-15-10': [0.75, 0.15, 0.1],\n",
    "    '80-10-10': [0.8, 0.1, 0.1],\n",
    "}\n",
    "\n",
    "# Choose a split\n",
    "split = splits['70-15-15']\n",
    "\n",
    "# Compute split lengths\n",
    "train_len = int(split[0] * total_size)\n",
    "val_len = int(split[1] * total_size)\n",
    "test_len = total_size - train_len - val_len\n",
    "\n",
    "# Apply random_split to your custom PyTorch dataset\n",
    "train_set_1, val_set_1, test_set_1 = random_split(custom_dataset1, [train_len, val_len, test_len])\n",
    "\n",
    "print(f\"✅ Split done — Train: {len(train_set_1)}, Validation: {len(val_set_1)}, Test: {len(test_set_1)}\")\n"
   ]
  },
  {
   "cell_type": "code",
   "execution_count": 353,
   "id": "a2a1dad3",
   "metadata": {},
   "outputs": [],
   "source": [
    "train_set=train_set_0 +train_set_1\n",
    "test_set= test_set_0+test_set_1\n",
    "val_set=val_set_0+val_set_1"
   ]
  },
  {
   "cell_type": "code",
   "execution_count": 354,
   "id": "60c98d3b",
   "metadata": {},
   "outputs": [],
   "source": [
    "from torchvision import transforms\n",
    "\n",
    "# For training (with augmentations)\n",
    "train_transform = transforms.Compose([\n",
    "    transforms.ToPILImage(),\n",
    "    transforms.Resize((224, 224)),\n",
    "    transforms.RandomHorizontalFlip(),\n",
    "    transforms.RandomRotation(10),\n",
    "    transforms.ToTensor(),\n",
    "    transforms.Normalize(mean=[0.5], std=[0.5])  # For grayscale\n",
    "])\n",
    "\n",
    "# For validation/test (no augmentations)\n",
    "test_val_transform = transforms.Compose([\n",
    "    transforms.ToPILImage(),\n",
    "    transforms.Resize((224, 224)),\n",
    "    transforms.ToTensor(),\n",
    "    transforms.Normalize(mean=[0.5], std=[0.5])\n",
    "])\n"
   ]
  },
  {
   "cell_type": "code",
   "execution_count": 355,
   "id": "25cbef55",
   "metadata": {},
   "outputs": [],
   "source": [
    "# Assuming you used: train_set, val_set, test_set = random_split(custom_dataset, [...])\n",
    "\n",
    "# Apply transforms correctly\n",
    "train_set_0.dataset.transform = train_transform\n",
    "val_set_0.dataset.transform = test_val_transform\n",
    "test_set_0.dataset.transform = test_val_transform\n",
    "train_set_1.dataset.transform = train_transform\n",
    "val_set_1.dataset.transform = test_val_transform\n",
    "test_set_1.dataset.transform = test_val_transform\n"
   ]
  },
  {
   "cell_type": "code",
   "execution_count": 356,
   "id": "65f1512a",
   "metadata": {},
   "outputs": [],
   "source": [
    "# Check the number of elements in each dataset\n"
   ]
  },
  {
   "cell_type": "code",
   "execution_count": 357,
   "id": "aeb20228",
   "metadata": {},
   "outputs": [],
   "source": [
    "augmented_train_set=train_set_0+train_set_1\n",
    "combined_val=val_set_0+val_set_1\n",
    "combined_test=test_set_0+test_set_1\n",
    "\n",
    "\n"
   ]
  },
  {
   "cell_type": "code",
   "execution_count": 358,
   "id": "e0fcde83",
   "metadata": {},
   "outputs": [
    {
     "name": "stdout",
     "output_type": "stream",
     "text": [
      "Images: 4124, Labels: 4124\n"
     ]
    }
   ],
   "source": [
    "aug_images = []\n",
    "aug_labels = []\n",
    "\n",
    "for img, label in augmented_train_set:\n",
    "    aug_images.append(img)\n",
    "    aug_labels.append(label)\n",
    "print(f\"Images: {len(aug_images)}, Labels: {len(aug_labels)}\")"
   ]
  },
  {
   "cell_type": "code",
   "execution_count": 359,
   "id": "7533c8c2",
   "metadata": {},
   "outputs": [
    {
     "data": {
      "text/html": [
       "<div>\n",
       "<style scoped>\n",
       "    .dataframe tbody tr th:only-of-type {\n",
       "        vertical-align: middle;\n",
       "    }\n",
       "\n",
       "    .dataframe tbody tr th {\n",
       "        vertical-align: top;\n",
       "    }\n",
       "\n",
       "    .dataframe thead th {\n",
       "        text-align: right;\n",
       "    }\n",
       "</style>\n",
       "<table border=\"1\" class=\"dataframe\">\n",
       "  <thead>\n",
       "    <tr style=\"text-align: right;\">\n",
       "      <th></th>\n",
       "      <th>image</th>\n",
       "      <th>label</th>\n",
       "    </tr>\n",
       "  </thead>\n",
       "  <tbody>\n",
       "    <tr>\n",
       "      <th>0</th>\n",
       "      <td>[[[tensor(-0.9529), tensor(-0.8980), tensor(-0...</td>\n",
       "      <td>tensor(0)</td>\n",
       "    </tr>\n",
       "    <tr>\n",
       "      <th>1</th>\n",
       "      <td>[[[tensor(-0.9373), tensor(-0.8980), tensor(-0...</td>\n",
       "      <td>tensor(0)</td>\n",
       "    </tr>\n",
       "    <tr>\n",
       "      <th>2</th>\n",
       "      <td>[[[tensor(-0.9451), tensor(-0.9216), tensor(-0...</td>\n",
       "      <td>tensor(0)</td>\n",
       "    </tr>\n",
       "    <tr>\n",
       "      <th>3</th>\n",
       "      <td>[[[tensor(-0.9451), tensor(-0.8902), tensor(-0...</td>\n",
       "      <td>tensor(0)</td>\n",
       "    </tr>\n",
       "    <tr>\n",
       "      <th>4</th>\n",
       "      <td>[[[tensor(-0.8902), tensor(-0.8824), tensor(-0...</td>\n",
       "      <td>tensor(0)</td>\n",
       "    </tr>\n",
       "  </tbody>\n",
       "</table>\n",
       "</div>"
      ],
      "text/plain": [
       "                                               image      label\n",
       "0  [[[tensor(-0.9529), tensor(-0.8980), tensor(-0...  tensor(0)\n",
       "1  [[[tensor(-0.9373), tensor(-0.8980), tensor(-0...  tensor(0)\n",
       "2  [[[tensor(-0.9451), tensor(-0.9216), tensor(-0...  tensor(0)\n",
       "3  [[[tensor(-0.9451), tensor(-0.8902), tensor(-0...  tensor(0)\n",
       "4  [[[tensor(-0.8902), tensor(-0.8824), tensor(-0...  tensor(0)"
      ]
     },
     "execution_count": 359,
     "metadata": {},
     "output_type": "execute_result"
    }
   ],
   "source": [
    "augmented_df = pd.DataFrame({\n",
    "    'image': aug_images,\n",
    "    'label': aug_labels\n",
    "})\n",
    "augmented_df.head()"
   ]
  },
  {
   "cell_type": "code",
   "execution_count": 360,
   "id": "fe4ee5c3",
   "metadata": {},
   "outputs": [],
   "source": [
    "# Assuming ImageDatasetFromDataFrame is already defined and can accept the DataFrame\n",
    "augmented_dataset = ImageDatasetFromDataFrame(augmented_df, transform=train_transform)\n",
    "\n",
    "\n"
   ]
  },
  {
   "cell_type": "code",
   "execution_count": 361,
   "id": "53f40e66",
   "metadata": {},
   "outputs": [],
   "source": [
    "train_df0, test_df0 = train_test_split(df_combined0, test_size=0.2, shuffle=True)\n",
    "train_set0 = ImageDatasetFromDataFrame(train_df0, transform=your_transform_here)\n",
    "test_image0=test_df0['image']\n",
    "test_label0=test_df0['label']\n",
    "test_labels0= test_label0.to_frame(name='label')\n"
   ]
  },
  {
   "cell_type": "code",
   "execution_count": 362,
   "id": "49d4c9f6",
   "metadata": {},
   "outputs": [],
   "source": [
    "train_df1, test_df1 = train_test_split(df_combined1, test_size=0.2, shuffle=True)\n",
    "train_set1 = ImageDatasetFromDataFrame(train_df1, transform=your_transform_here)\n",
    "test_image1=test_df1['image']\n",
    "test_label1=test_df1['label']\n",
    "test_labels1 = test_label1.to_frame(name='label')\n",
    "\n",
    "\n"
   ]
  },
  {
   "cell_type": "code",
   "execution_count": 363,
   "id": "787058c5",
   "metadata": {},
   "outputs": [
    {
     "name": "stdout",
     "output_type": "stream",
     "text": [
      "<torch.utils.data.dataset.ConcatDataset object at 0x00000110D799C790>\n",
      "1159    [[[6, 138, 140], [13, 120, 117], [11, 121, 120...\n",
      "1444    [[[16, 16, 16], [16, 16, 16], [14, 14, 14], [1...\n",
      "1198    [[[7, 142, 146], [13, 129, 125], [13, 130, 130...\n",
      "877     [[[6, 138, 140], [13, 120, 117], [11, 121, 120...\n",
      "1802    [[[15, 26, 36], [14, 26, 36], [13, 26, 35], [1...\n",
      "                              ...                        \n",
      "2606    [[[35, 62, 93], [34, 59, 91], [34, 60, 92], [3...\n",
      "1078    [[[20, 152, 152], [41, 152, 153], [44, 153, 15...\n",
      "1222    [[[4, 151, 164], [12, 150, 140], [15, 147, 148...\n",
      "1874    [[[4, 138, 142], [15, 116, 108], [31, 133, 136...\n",
      "2303    [[[35, 62, 93], [34, 59, 91], [34, 60, 92], [3...\n",
      "Name: image, Length: 1179, dtype: object\n"
     ]
    }
   ],
   "source": [
    "from torch.utils.data import ConcatDataset\n",
    "final_train=ConcatDataset([augmented_dataset,train_set0,train_set1])\n",
    "final_test_images= pd.concat([test_image0,test_image1])\n",
    "final_test_labels=pd.concat([test_labels0,test_labels1])\n",
    "# If your labels are Series\n",
    "\n",
    "\n",
    "\n",
    "len(final_train)\n",
    "print(final_train)\n",
    "type(final_test_images)\n",
    "print(final_test_images)"
   ]
  },
  {
   "cell_type": "code",
   "execution_count": 364,
   "id": "21d50531",
   "metadata": {},
   "outputs": [
    {
     "name": "stdout",
     "output_type": "stream",
     "text": [
      "<class 'torch.Tensor'> tensor(0)\n"
     ]
    },
    {
     "name": "stderr",
     "output_type": "stream",
     "text": [
      "C:\\Users\\nalla\\AppData\\Local\\Temp\\ipykernel_7056\\3447748781.py:24: UserWarning: To copy construct from a tensor, it is recommended to use sourceTensor.clone().detach() or sourceTensor.clone().detach().requires_grad_(True), rather than torch.tensor(sourceTensor).\n",
      "  return image, torch.tensor(label, dtype=torch.long)\n"
     ]
    }
   ],
   "source": [
    "# Access total length\n",
    "len(final_train)\n",
    "\n",
    "# Get an item (image, label pair)\n",
    "image, label = final_train[0]\n",
    "\n",
    "# Loop through it\n",
    "for img, lbl in final_train:\n",
    "    print(type(img), lbl)\n",
    "    break\n"
   ]
  },
  {
   "cell_type": "code",
   "execution_count": 365,
   "id": "67b757d1",
   "metadata": {},
   "outputs": [
    {
     "name": "stdout",
     "output_type": "stream",
     "text": [
      "Dataset 0 ✅ has labels.\n",
      "Dataset 1 ✅ has labels.\n",
      "Dataset 2 ✅ has labels.\n"
     ]
    }
   ],
   "source": [
    "for i, ds in enumerate(final_train.datasets):\n",
    "    if hasattr(ds, 'dataframe') and 'label' in ds.dataframe.columns:\n",
    "        print(f\"Dataset {i} ✅ has labels.\")\n",
    "    else:\n",
    "        print(f\"Dataset {i} ❌ missing labels.\")\n"
   ]
  },
  {
   "cell_type": "code",
   "execution_count": 369,
   "id": "e96552c0",
   "metadata": {
    "scrolled": true
   },
   "outputs": [
    {
     "name": "stderr",
     "output_type": "stream",
     "text": [
      "C:\\Users\\nalla\\AppData\\Local\\Temp\\ipykernel_7056\\3447748781.py:24: UserWarning: To copy construct from a tensor, it is recommended to use sourceTensor.clone().detach() or sourceTensor.clone().detach().requires_grad_(True), rather than torch.tensor(sourceTensor).\n",
      "  return image, torch.tensor(label, dtype=torch.long)\n",
      "Clipping input data to the valid range for imshow with RGB data ([0..1] for floats or [0..255] for integers).\n"
     ]
    },
    {
     "data": {
      "image/png": "[encoded data removed]",
      "text/plain": [
       "<Figure size 640x480 with 1 Axes>"
      ]
     },
     "metadata": {},
     "output_type": "display_data"
    }
   ],
   "source": [
    "sample_image, sample_label = final_train[546]  # This returns image, label tuple\n",
    "sample_image = sample_image.permute(1, 2, 0)  # Convert from [C,H,W] to [H,W,C]\n",
    "plt.imshow(sample_image)\n",
    "plt.title(f\"Label: {sample_label}\")\n",
    "plt.axis(\"off\")\n",
    "plt.show()\n"
   ]
  },
  {
   "cell_type": "code",
   "execution_count": 370,
   "id": "29dfba5b",
   "metadata": {},
   "outputs": [
    {
     "name": "stdout",
     "output_type": "stream",
     "text": [
      "<__main__.ImageDatasetFromDataFrame object at 0x00000110FF5561D0>\n"
     ]
    }
   ],
   "source": [
    "if isinstance(final_test_labels, pd.Series):\n",
    "    final_test_labels = final_test_labels.to_frame()  # Converts Series to DataFrame\n",
    "    final_test_labels.columns = ['label']  # Ensure correct column name\n",
    "\n",
    "final_test_labels=ImageDatasetFromDataFrame(final_test_labels, transform=your_transform_here)\n",
    "print(final_test_labels) "
   ]
  },
  {
   "cell_type": "code",
   "execution_count": 371,
   "id": "c5e75b9d",
   "metadata": {},
   "outputs": [
    {
     "name": "stdout",
     "output_type": "stream",
     "text": [
      "<class '__main__.ImageDatasetFromDataFrame'>\n",
      "['__add__', '__annotations__', '__class__', '__class_getitem__', '__delattr__', '__dict__', '__dir__', '__doc__', '__eq__', '__format__', '__ge__', '__getattribute__', '__getitem__', '__getstate__', '__gt__', '__hash__', '__init__', '__init_subclass__', '__le__', '__len__', '__lt__', '__module__', '__ne__', '__new__', '__orig_bases__', '__parameters__', '__reduce__', '__reduce_ex__', '__repr__', '__setattr__', '__sizeof__', '__slots__', '__str__', '__subclasshook__', '__weakref__', '_is_protocol', 'dataframe', 'transform']\n"
     ]
    }
   ],
   "source": [
    "print(type(final_test_labels))\n",
    "print(dir(final_test_labels))\n",
    "\n",
    "\n"
   ]
  },
  {
   "cell_type": "code",
   "execution_count": 372,
   "id": "0002da19",
   "metadata": {
    "scrolled": true
   },
   "outputs": [
    {
     "name": "stdout",
     "output_type": "stream",
     "text": [
      "      label\n",
      "1159      0\n",
      "1444      0\n",
      "1198      0\n",
      "877       0\n",
      "1802      0\n",
      "...     ...\n",
      "2606      1\n",
      "1078      1\n",
      "1222      1\n",
      "1874      1\n",
      "2303      1\n",
      "\n",
      "[1179 rows x 1 columns]\n",
      "✅ Test set has labels.\n"
     ]
    }
   ],
   "source": [
    "# Access the dataframe directly from the dataset object\n",
    "df = getattr(final_test_labels, 'dataframe', None)\n",
    "print(df)\n",
    "# Check if it is a DataFrame and contains the 'label' column\n",
    "if isinstance(df, pd.DataFrame) and 'label' in df.columns:\n",
    "    print(\"✅ Test set has labels.\")\n",
    "else:\n",
    "    print(\"❌ Missing labels or not a DataFrame.\")"
   ]
  },
  {
   "cell_type": "code",
   "execution_count": null,
   "id": "78a45b94",
   "metadata": {},
   "outputs": [],
   "source": []
  },
  {
   "cell_type": "code",
   "execution_count": null,
   "id": "926c426f",
   "metadata": {},
   "outputs": [],
   "source": []
  },
  {
   "cell_type": "code",
   "execution_count": null,
   "id": "9e223e9c",
   "metadata": {},
   "outputs": [],
   "source": []
  },
  {
   "cell_type": "code",
   "execution_count": null,
   "id": "9837ccff",
   "metadata": {},
   "outputs": [],
   "source": []
  },
  {
   "cell_type": "code",
   "execution_count": 13,
   "id": "f96b7f09",
   "metadata": {
    "scrolled": true
   },
   "outputs": [
    {
     "name": "stdout",
     "output_type": "stream",
     "text": [
      "WARNING:tensorflow:From C:\\Users\\nalla\\anaconda3\\Lib\\site-packages\\keras\\src\\losses.py:2976: The name tf.losses.sparse_softmax_cross_entropy is deprecated. Please use tf.compat.v1.losses.sparse_softmax_cross_entropy instead.\n",
      "\n",
      "WARNING:tensorflow:From C:\\Users\\nalla\\anaconda3\\Lib\\site-packages\\keras\\src\\backend.py:873: The name tf.get_default_graph is deprecated. Please use tf.compat.v1.get_default_graph instead.\n",
      "\n",
      "WARNING:tensorflow:From C:\\Users\\nalla\\anaconda3\\Lib\\site-packages\\keras\\src\\layers\\pooling\\max_pooling2d.py:161: The name tf.nn.max_pool is deprecated. Please use tf.nn.max_pool2d instead.\n",
      "\n",
      "WARNING:tensorflow:From C:\\Users\\nalla\\anaconda3\\Lib\\site-packages\\keras\\src\\optimizers\\__init__.py:309: The name tf.train.Optimizer is deprecated. Please use tf.compat.v1.train.Optimizer instead.\n",
      "\n",
      "Epoch 1/10\n",
      "WARNING:tensorflow:From C:\\Users\\nalla\\anaconda3\\Lib\\site-packages\\keras\\src\\utils\\tf_utils.py:492: The name tf.ragged.RaggedTensorValue is deprecated. Please use tf.compat.v1.ragged.RaggedTensorValue instead.\n",
      "\n",
      "WARNING:tensorflow:From C:\\Users\\nalla\\anaconda3\\Lib\\site-packages\\keras\\src\\engine\\base_layer_utils.py:384: The name tf.executing_eagerly_outside_functions is deprecated. Please use tf.compat.v1.executing_eagerly_outside_functions instead.\n",
      "\n",
      "148/148 [==============================] - 77s 501ms/step - loss: 0.6809 - accuracy: 0.6162 - val_loss: 0.6599 - val_accuracy: 0.6243\n",
      "Epoch 2/10\n",
      "148/148 [==============================] - 71s 481ms/step - loss: 0.6578 - accuracy: 0.6262 - val_loss: 0.6445 - val_accuracy: 0.6387\n",
      "Epoch 3/10\n",
      "148/148 [==============================] - 72s 484ms/step - loss: 0.6244 - accuracy: 0.6525 - val_loss: 0.6146 - val_accuracy: 0.6701\n",
      "Epoch 4/10\n",
      "148/148 [==============================] - 74s 497ms/step - loss: 0.5938 - accuracy: 0.6712 - val_loss: 0.5954 - val_accuracy: 0.6641\n",
      "Epoch 5/10\n",
      "148/148 [==============================] - 72s 490ms/step - loss: 0.5481 - accuracy: 0.7098 - val_loss: 0.5898 - val_accuracy: 0.6777\n",
      "Epoch 6/10\n",
      "148/148 [==============================] - 72s 488ms/step - loss: 0.5015 - accuracy: 0.7425 - val_loss: 0.6130 - val_accuracy: 0.6862\n",
      "Epoch 7/10\n",
      "148/148 [==============================] - 70s 472ms/step - loss: 0.4516 - accuracy: 0.7650 - val_loss: 0.6303 - val_accuracy: 0.6870\n",
      "Epoch 8/10\n",
      "148/148 [==============================] - 69s 466ms/step - loss: 0.3756 - accuracy: 0.8146 - val_loss: 0.6631 - val_accuracy: 0.6811\n",
      "Epoch 9/10\n",
      "148/148 [==============================] - 72s 488ms/step - loss: 0.3062 - accuracy: 0.8600 - val_loss: 0.7763 - val_accuracy: 0.7099\n",
      "Epoch 10/10\n",
      "148/148 [==============================] - 71s 481ms/step - loss: 0.2445 - accuracy: 0.8969 - val_loss: 0.8835 - val_accuracy: 0.6870\n",
      "37/37 [==============================] - 4s 103ms/step\n",
      "              precision    recall  f1-score   support\n",
      "\n",
      "           0       0.59      0.56      0.57       443\n",
      "           1       0.74      0.76      0.75       736\n",
      "\n",
      "    accuracy                           0.69      1179\n",
      "   macro avg       0.67      0.66      0.66      1179\n",
      "weighted avg       0.68      0.69      0.69      1179\n",
      "\n"
     ]
    }
   ],
   "source": [
    "import tensorflow as tf\n",
    "from tensorflow.keras.models import Sequential\n",
    "from tensorflow.keras.layers import Conv2D, MaxPooling2D, Flatten, Dense, Dropout\n",
    "from sklearn.metrics import classification_report\n",
    "\n",
    "model = Sequential([\n",
    "    Conv2D(32, (3, 3), activation='relu', input_shape=(224, 224, 3)),\n",
    "    MaxPooling2D(pool_size=(2, 2)),\n",
    "\n",
    "    Conv2D(64, (3, 3), activation='relu'),\n",
    "    MaxPooling2D(pool_size=(2, 2)),\n",
    "\n",
    "    Conv2D(128, (3, 3), activation='relu'),\n",
    "    MaxPooling2D(pool_size=(2, 2)),\n",
    "\n",
    "    Flatten(),\n",
    "    Dense(128, activation='relu'),\n",
    "    Dropout(0.5),\n",
    "    Dense(1, activation='sigmoid')\n",
    "])\n",
    "\n",
    "# 4. Compile the model\n",
    "model.compile(optimizer='adam',\n",
    "              loss='binary_crossentropy',\n",
    "              metrics=['accuracy'])\n",
    "\n",
    "# 5. Train the model\n",
    "history = model.fit(\n",
    "    final_train\n",
    "    validation_data=(X_val, y_val),\n",
    "    epochs=10,\n",
    "    batch_size=32\n",
    ")\n",
    "\n",
    "# 6. Evaluate\n",
    "y_pred = (model.predict(X_val) > 0.5).astype(\"int32\")\n",
    "print(classification_report(y_val, y_pred))\n"
   ]
  },
  {
   "cell_type": "code",
   "execution_count": 14,
   "id": "b5972eb1",
   "metadata": {},
   "outputs": [
    {
     "name": "stdout",
     "output_type": "stream",
     "text": [
      "Epoch 1/10\n",
      "129/129 [==============================] - 79s 586ms/step - loss: 0.6709 - accuracy: 0.6177 - val_loss: 0.6641 - val_accuracy: 0.6244\n",
      "Epoch 2/10\n",
      "129/129 [==============================] - 72s 558ms/step - loss: 0.6641 - accuracy: 0.6242 - val_loss: 0.6627 - val_accuracy: 0.6244\n",
      "Epoch 3/10\n",
      "129/129 [==============================] - 67s 523ms/step - loss: 0.6655 - accuracy: 0.6242 - val_loss: 0.6619 - val_accuracy: 0.6244\n",
      "Epoch 4/10\n",
      "129/129 [==============================] - 65s 503ms/step - loss: 0.6636 - accuracy: 0.6242 - val_loss: 0.6640 - val_accuracy: 0.6244\n",
      "Epoch 5/10\n",
      "129/129 [==============================] - 68s 525ms/step - loss: 0.6631 - accuracy: 0.6242 - val_loss: 0.6621 - val_accuracy: 0.6244\n",
      "Epoch 6/10\n",
      "129/129 [==============================] - 66s 510ms/step - loss: 0.6644 - accuracy: 0.6242 - val_loss: 0.6619 - val_accuracy: 0.6244\n",
      "Epoch 7/10\n",
      "129/129 [==============================] - 69s 535ms/step - loss: 0.6638 - accuracy: 0.6242 - val_loss: 0.6619 - val_accuracy: 0.6244\n",
      "Epoch 8/10\n",
      "129/129 [==============================] - 72s 560ms/step - loss: 0.6634 - accuracy: 0.6242 - val_loss: 0.6621 - val_accuracy: 0.6244\n",
      "Epoch 9/10\n",
      "129/129 [==============================] - 64s 498ms/step - loss: 0.6642 - accuracy: 0.6242 - val_loss: 0.6619 - val_accuracy: 0.6244\n",
      "Epoch 10/10\n",
      "129/129 [==============================] - 68s 525ms/step - loss: 0.6647 - accuracy: 0.6242 - val_loss: 0.6658 - val_accuracy: 0.6244\n",
      "56/56 [==============================] - 6s 103ms/step\n",
      "              precision    recall  f1-score   support\n",
      "\n",
      "           0       0.00      0.00      0.00       664\n",
      "           1       0.62      1.00      0.77      1104\n",
      "\n",
      "    accuracy                           0.62      1768\n",
      "   macro avg       0.31      0.50      0.38      1768\n",
      "weighted avg       0.39      0.62      0.48      1768\n",
      "\n"
     ]
    },
    {
     "name": "stderr",
     "output_type": "stream",
     "text": [
      "C:\\Users\\nalla\\anaconda3\\Lib\\site-packages\\sklearn\\metrics\\_classification.py:1344: UndefinedMetricWarning: Precision and F-score are ill-defined and being set to 0.0 in labels with no predicted samples. Use `zero_division` parameter to control this behavior.\n",
      "  _warn_prf(average, modifier, msg_start, len(result))\n",
      "C:\\Users\\nalla\\anaconda3\\Lib\\site-packages\\sklearn\\metrics\\_classification.py:1344: UndefinedMetricWarning: Precision and F-score are ill-defined and being set to 0.0 in labels with no predicted samples. Use `zero_division` parameter to control this behavior.\n",
      "  _warn_prf(average, modifier, msg_start, len(result))\n",
      "C:\\Users\\nalla\\anaconda3\\Lib\\site-packages\\sklearn\\metrics\\_classification.py:1344: UndefinedMetricWarning: Precision and F-score are ill-defined and being set to 0.0 in labels with no predicted samples. Use `zero_division` parameter to control this behavior.\n",
      "  _warn_prf(average, modifier, msg_start, len(result))\n"
     ]
    }
   ],
   "source": [
    "import tensorflow as tf\n",
    "from tensorflow.keras.models import Sequential\n",
    "from tensorflow.keras.layers import Conv2D, MaxPooling2D, Flatten, Dense, Dropout\n",
    "from sklearn.model_selection import train_test_split\n",
    "from sklearn.metrics import classification_report\n",
    "\n",
    "# 1. Normalize image data (0-1)\n",
    "X = X.astype('float32') / 255.0\n",
    "\n",
    "# 2. Train-test split\n",
    "X_train, X_val, y_train, y_val = train_test_split(X, y, test_size=0.3, random_state=42, stratify=y)\n",
    "\n",
    "# 3. Build the model\n",
    "model = Sequential([\n",
    "    Conv2D(32, (3, 3), activation='relu', input_shape=(224, 224, 3)),\n",
    "    MaxPooling2D(pool_size=(2, 2)),\n",
    "\n",
    "    Conv2D(64, (3, 3), activation='relu'),\n",
    "    MaxPooling2D(pool_size=(2, 2)),\n",
    "\n",
    "    Conv2D(128, (3, 3), activation='relu'),\n",
    "    MaxPooling2D(pool_size=(2, 2)),\n",
    "\n",
    "    Flatten(),\n",
    "    Dense(128, activation='relu'),\n",
    "    Dropout(0.5),\n",
    "    Dense(1, activation='sigmoid')  # Binary output\n",
    "])\n",
    "\n",
    "# 4. Compile the model\n",
    "model.compile(optimizer='adam',\n",
    "              loss='binary_crossentropy',\n",
    "              metrics=['accuracy'])\n",
    "\n",
    "# 5. Train the model\n",
    "history = model.fit(\n",
    "    X_train, y_train,\n",
    "    validation_data=(X_val, y_val),\n",
    "    epochs=10,\n",
    "    batch_size=32\n",
    ")\n",
    "\n",
    "# 6. Evaluate\n",
    "y_pred = (model.predict(X_val) > 0.5).astype(\"int32\")\n",
    "print(classification_report(y_val, y_pred))\n"
   ]
  },
  {
   "cell_type": "code",
   "execution_count": 15,
   "id": "e65bf308",
   "metadata": {},
   "outputs": [
    {
     "name": "stdout",
     "output_type": "stream",
     "text": [
      "Epoch 1/10\n",
      "139/139 [==============================] - 80s 560ms/step - loss: 0.6710 - accuracy: 0.6230 - val_loss: 0.6658 - val_accuracy: 0.6242\n",
      "Epoch 2/10\n",
      "139/139 [==============================] - 72s 519ms/step - loss: 0.6668 - accuracy: 0.6243 - val_loss: 0.6620 - val_accuracy: 0.6242\n",
      "Epoch 3/10\n",
      "139/139 [==============================] - 72s 518ms/step - loss: 0.6666 - accuracy: 0.6243 - val_loss: 0.6624 - val_accuracy: 0.6242\n",
      "Epoch 4/10\n",
      "139/139 [==============================] - 70s 502ms/step - loss: 0.6657 - accuracy: 0.6243 - val_loss: 0.6620 - val_accuracy: 0.6242\n",
      "Epoch 5/10\n",
      "139/139 [==============================] - 71s 514ms/step - loss: 0.6627 - accuracy: 0.6243 - val_loss: 0.6624 - val_accuracy: 0.6242\n",
      "Epoch 6/10\n",
      "139/139 [==============================] - 70s 504ms/step - loss: 0.6645 - accuracy: 0.6243 - val_loss: 0.6623 - val_accuracy: 0.6242\n",
      "Epoch 7/10\n",
      "139/139 [==============================] - 71s 511ms/step - loss: 0.6639 - accuracy: 0.6243 - val_loss: 0.6620 - val_accuracy: 0.6242\n",
      "Epoch 8/10\n",
      "139/139 [==============================] - 70s 504ms/step - loss: 0.6644 - accuracy: 0.6243 - val_loss: 0.6627 - val_accuracy: 0.6242\n",
      "Epoch 9/10\n",
      "139/139 [==============================] - 72s 515ms/step - loss: 0.6629 - accuracy: 0.6243 - val_loss: 0.6622 - val_accuracy: 0.6242\n",
      "Epoch 10/10\n",
      "139/139 [==============================] - 68s 493ms/step - loss: 0.6619 - accuracy: 0.6243 - val_loss: 0.6628 - val_accuracy: 0.6242\n",
      "47/47 [==============================] - 5s 97ms/step\n",
      "              precision    recall  f1-score   support\n",
      "\n",
      "           0       0.00      0.00      0.00       554\n",
      "           1       0.62      1.00      0.77       920\n",
      "\n",
      "    accuracy                           0.62      1474\n",
      "   macro avg       0.31      0.50      0.38      1474\n",
      "weighted avg       0.39      0.62      0.48      1474\n",
      "\n"
     ]
    },
    {
     "name": "stderr",
     "output_type": "stream",
     "text": [
      "C:\\Users\\nalla\\anaconda3\\Lib\\site-packages\\sklearn\\metrics\\_classification.py:1344: UndefinedMetricWarning: Precision and F-score are ill-defined and being set to 0.0 in labels with no predicted samples. Use `zero_division` parameter to control this behavior.\n",
      "  _warn_prf(average, modifier, msg_start, len(result))\n",
      "C:\\Users\\nalla\\anaconda3\\Lib\\site-packages\\sklearn\\metrics\\_classification.py:1344: UndefinedMetricWarning: Precision and F-score are ill-defined and being set to 0.0 in labels with no predicted samples. Use `zero_division` parameter to control this behavior.\n",
      "  _warn_prf(average, modifier, msg_start, len(result))\n",
      "C:\\Users\\nalla\\anaconda3\\Lib\\site-packages\\sklearn\\metrics\\_classification.py:1344: UndefinedMetricWarning: Precision and F-score are ill-defined and being set to 0.0 in labels with no predicted samples. Use `zero_division` parameter to control this behavior.\n",
      "  _warn_prf(average, modifier, msg_start, len(result))\n"
     ]
    }
   ],
   "source": [
    "import tensorflow as tf\n",
    "from tensorflow.keras.models import Sequential\n",
    "from tensorflow.keras.layers import Conv2D, MaxPooling2D, Flatten, Dense, Dropout\n",
    "from sklearn.model_selection import train_test_split\n",
    "from sklearn.metrics import classification_report\n",
    "\n",
    "# 1. Normalize image data (0-1)\n",
    "X = X.astype('float32') / 255.0\n",
    "\n",
    "# 2. Train-test split\n",
    "X_train, X_val, y_train, y_val = train_test_split(X, y, test_size=0.25, random_state=42, stratify=y)\n",
    "\n",
    "# 3. Build the model\n",
    "model = Sequential([\n",
    "    Conv2D(32, (3, 3), activation='relu', input_shape=(224, 224, 3)),\n",
    "    MaxPooling2D(pool_size=(2, 2)),\n",
    "\n",
    "    Conv2D(64, (3, 3), activation='relu'),\n",
    "    MaxPooling2D(pool_size=(2, 2)),\n",
    "\n",
    "    Conv2D(128, (3, 3), activation='relu'),\n",
    "    MaxPooling2D(pool_size=(2, 2)),\n",
    "\n",
    "    Flatten(),\n",
    "    Dense(128, activation='relu'),\n",
    "    Dropout(0.5),\n",
    "    Dense(1, activation='sigmoid')  # Binary output\n",
    "])\n",
    "\n",
    "# 4. Compile the model\n",
    "model.compile(optimizer='adam',\n",
    "              loss='binary_crossentropy',\n",
    "              metrics=['accuracy'])\n",
    "\n",
    "# 5. Train the model\n",
    "history = model.fit(\n",
    "    X_train, y_train,\n",
    "    validation_data=(X_val, y_val),\n",
    "    epochs=10,\n",
    "    batch_size=32\n",
    ")\n",
    "\n",
    "# 6. Evaluate\n",
    "y_pred = (model.predict(X_val) > 0.5).astype(\"int32\")\n",
    "print(classification_report(y_val, y_pred))\n"
   ]
  },
  {
   "cell_type": "markdown",
   "id": "6740f25c",
   "metadata": {},
   "source": [
    "# we created cnn models without spliting the data into malign or benign"
   ]
  },
  {
   "cell_type": "markdown",
   "id": "989b342e",
   "metadata": {},
   "source": [
    "now we split it into malign and benign"
   ]
  },
  {
   "cell_type": "markdown",
   "id": "0fc19eaa",
   "metadata": {},
   "source": [
    "# Benign test train data"
   ]
  },
  {
   "cell_type": "markdown",
   "id": "e64e92b7",
   "metadata": {},
   "source": [
    "# implementing the model"
   ]
  },
  {
   "cell_type": "code",
   "execution_count": 30,
   "id": "81398ec1",
   "metadata": {},
   "outputs": [],
   "source": [
    "os.environ['CUDA_LAUNCH_BLOCKING'] = \"1\""
   ]
  },
  {
   "cell_type": "code",
   "execution_count": 31,
   "id": "152e5101",
   "metadata": {},
   "outputs": [
    {
     "name": "stdout",
     "output_type": "stream",
     "text": [
      "Using device: cpu\n"
     ]
    },
    {
     "name": "stderr",
     "output_type": "stream",
     "text": [
      "C:\\Users\\nalla\\anaconda3\\Lib\\site-packages\\torchvision\\models\\_utils.py:208: UserWarning: The parameter 'pretrained' is deprecated since 0.13 and may be removed in the future, please use 'weights' instead.\n",
      "  warnings.warn(\n",
      "C:\\Users\\nalla\\anaconda3\\Lib\\site-packages\\torchvision\\models\\_utils.py:223: UserWarning: Arguments other than a weight enum or `None` for 'weights' are deprecated since 0.13 and may be removed in the future. The current behavior is equivalent to passing `weights=ResNet18_Weights.IMAGENET1K_V1`. You can also use `weights=ResNet18_Weights.DEFAULT` to get the most up-to-date weights.\n",
      "  warnings.warn(msg)\n"
     ]
    },
    {
     "name": "stdout",
     "output_type": "stream",
     "text": [
      "Epoch 1 | Train Loss: 0.0516 | Train Acc: 97.01% | Test Acc: 100.00%\n",
      "Epoch 2 | Train Loss: 0.0000 | Train Acc: 100.00% | Test Acc: 100.00%\n",
      "Epoch 3 | Train Loss: 0.0000 | Train Acc: 100.00% | Test Acc: 100.00%\n",
      "Epoch 4 | Train Loss: 0.0000 | Train Acc: 100.00% | Test Acc: 100.00%\n",
      "Epoch 5 | Train Loss: 0.0000 | Train Acc: 100.00% | Test Acc: 100.00%\n",
      "Epoch 6 | Train Loss: 0.0000 | Train Acc: 100.00% | Test Acc: 100.00%\n",
      "Epoch 7 | Train Loss: 0.0000 | Train Acc: 100.00% | Test Acc: 100.00%\n",
      "Epoch 8 | Train Loss: 0.0000 | Train Acc: 100.00% | Test Acc: 100.00%\n",
      "Epoch 9 | Train Loss: 0.0000 | Train Acc: 100.00% | Test Acc: 100.00%\n",
      "Epoch 10 | Train Loss: 0.0000 | Train Acc: 100.00% | Test Acc: 100.00%\n"
     ]
    }
   ],
   "source": [
    "import os\n",
    "from PIL import Image\n",
    "import torch\n",
    "from torch.utils.data import Dataset, DataLoader\n",
    "import torch.nn as nn\n",
    "import torch.optim as optim\n",
    "import torchvision.transforms as transforms\n",
    "from torchvision import models\n",
    "from sklearn.model_selection import train_test_split\n",
    "import matplotlib.pyplot as plt\n",
    "import numpy as np\n",
    "import cv2\n",
    "\n",
    "# --- Ensure environment stays on CPU ---\n",
    "os.environ[\"CUDA_VISIBLE_DEVICES\"] = \"\"  # Prevent CUDA use\n",
    "torch.cuda.is_available = lambda: False  # Override check\n",
    "\n",
    "# Set CPU device\n",
    "device = torch.device('cpu')\n",
    "print(f\"Using device: {device}\")\n",
    "\n",
    "# Custom Dataset\n",
    "class CustomDataset(Dataset):\n",
    "    def __init__(self, image_paths, labels, transform=None, root_dir=\"\"):\n",
    "        self.image_paths = image_paths\n",
    "        self.labels = labels\n",
    "        self.transform = transform\n",
    "        self.root_dir = root_dir\n",
    "\n",
    "    def __len__(self):\n",
    "        return len(self.image_paths)\n",
    "\n",
    "    def __getitem__(self, idx):\n",
    "        img_name = self.image_paths.iloc[idx]  # Make sure these are pandas Series\n",
    "        label = self.labels.iloc[idx]\n",
    "        full_path = os.path.join(self.root_dir, img_name)\n",
    "        image = Image.open(full_path).convert('RGB')\n",
    "        if self.transform:\n",
    "            image = self.transform(image)\n",
    "        return image, label, full_path\n",
    "\n",
    "# Transforms\n",
    "transform = transforms.Compose([\n",
    "    transforms.Resize((224, 224)),\n",
    "    transforms.ToTensor(),\n",
    "])\n",
    "\n",
    "# Example: Load your data — replace with your own DataFrame\n",
    "# Assuming 'filtered_df' is already loaded with columns 'path' and 'histo_label'\n",
    "root_dir = r\"C:\\Users\\nalla\\OneDrive\\ドキュメント\\Research data sets\\dataset\"\n",
    "train_df, test_df = train_test_split(filtered_df, test_size=0.2, stratify=filtered_df['histo_label'], random_state=42)\n",
    "\n",
    "# Datasets and Loaders\n",
    "train_dataset = CustomDataset(train_df['path'], train_df['histo_label'], transform, root_dir)\n",
    "test_dataset = CustomDataset(test_df['path'], test_df['histo_label'], transform, root_dir)\n",
    "\n",
    "train_loader = DataLoader(train_dataset, batch_size=32, shuffle=True, pin_memory=False)\n",
    "test_loader = DataLoader(test_dataset, batch_size=1, shuffle=False, pin_memory=False)\n",
    "\n",
    "# Model Setup\n",
    "model = models.resnet18(pretrained=True)\n",
    "model.fc = nn.Linear(model.fc.in_features, 2)\n",
    "model = model.to(device)\n",
    "\n",
    "# Optimizer *after* moving to CPU\n",
    "optimizer = optim.Adam(model.parameters(), lr=0.001)\n",
    "criterion = nn.CrossEntropyLoss()\n",
    "\n",
    "# Training\n",
    "def train(model, loader, optimizer, criterion):\n",
    "    model.train()\n",
    "    total_loss, correct, total = 0, 0, 0\n",
    "    for images, labels, _ in loader:\n",
    "        images, labels = images.to(device), labels.to(device)\n",
    "        assert images.device.type == 'cpu' and labels.device.type == 'cpu'\n",
    "\n",
    "        optimizer.zero_grad()\n",
    "        outputs = model(images)\n",
    "        loss = criterion(outputs, labels)\n",
    "        loss.backward()\n",
    "        optimizer.step()\n",
    "\n",
    "        total_loss += loss.item() * images.size(0)\n",
    "        _, preds = outputs.max(1)\n",
    "        correct += (preds == labels).sum().item()\n",
    "        total += labels.size(0)\n",
    "\n",
    "    return total_loss / total, 100 * correct / total\n",
    "\n",
    "# Evaluation\n",
    "def evaluate(model, loader):\n",
    "    model.eval()\n",
    "    correct, total = 0, 0\n",
    "    with torch.no_grad():\n",
    "        for images, labels, _ in loader:\n",
    "            images, labels = images.to(device), labels.to(device)\n",
    "            outputs = model(images)\n",
    "            _, preds = outputs.max(1)\n",
    "            correct += (preds == labels).sum().item()\n",
    "            total += labels.size(0)\n",
    "    return 100 * correct / total\n",
    "\n",
    "# Train Loop\n",
    "for epoch in range(10):\n",
    "    loss, acc = train(model, train_loader, optimizer, criterion)\n",
    "    test_acc = evaluate(model, test_loader)\n",
    "    print(f\"Epoch {epoch+1} | Train Loss: {loss:.4f} | Train Acc: {acc:.2f}% | Test Acc: {test_acc:.2f}%\")\n",
    "\n"
   ]
  },
  {
   "cell_type": "markdown",
   "id": "08b158c9",
   "metadata": {},
   "source": [
    "# model is built and has predicted now we add explainability.\n"
   ]
  },
  {
   "cell_type": "code",
   "execution_count": 41,
   "id": "28e81a7c",
   "metadata": {
    "scrolled": true
   },
   "outputs": [
    {
     "data": {
      "image/png": "[encoded data removed]",
      "text/plain": [
       "<Figure size 640x480 with 2 Axes>"
      ]
     },
     "metadata": {},
     "output_type": "display_data"
    },
    {
     "data": {
      "image/png": "[encoded data removed]",
      "text/plain": [
       "<Figure size 600x500 with 2 Axes>"
      ]
     },
     "metadata": {},
     "output_type": "display_data"
    }
   ],
   "source": [
    "\n",
    "from sklearn.metrics import confusion_matrix, ConfusionMatrixDisplay\n",
    "import seaborn as sns\n",
    "import matplotlib.pyplot as plt\n",
    "\n",
    "# Collect predictions and true labels\n",
    "all_preds = []\n",
    "all_labels = []\n",
    "\n",
    "model.eval()\n",
    "with torch.no_grad():\n",
    "    for images, labels, _ in test_loader:\n",
    "        images = images.to(device)\n",
    "        outputs = model(images)\n",
    "        _, preds = outputs.max(1)\n",
    "        all_preds.extend(preds.cpu().numpy())\n",
    "        all_labels.extend(labels.numpy())\n",
    "\n",
    "# Compute confusion matrix\n",
    "cm = confusion_matrix(all_labels, all_preds,labels=[0,1])\n",
    "\n",
    "# 1. Confusion matrix display\n",
    "disp = ConfusionMatrixDisplay(confusion_matrix=cm, display_labels=['Benign', 'Malignant'])\n",
    "disp.plot(cmap=plt.cm.Blues)\n",
    "plt.title(\"Confusion Matrix\")\n",
    "plt.show()\n",
    "\n",
    "# 2. Heatmap\n",
    "plt.figure(figsize=(6, 5))\n",
    "sns.heatmap(cm, annot=True, fmt='d', cmap='Blues', xticklabels=['Benign', 'Malignant'], yticklabels=['Benign', 'Malignant'])\n",
    "plt.xlabel('Predicted')\n",
    "plt.ylabel('Actual')\n",
    "plt.title('Confusion Matrix Heatmap')\n",
    "plt.show()\n",
    "\n",
    "\n"
   ]
  },
  {
   "cell_type": "code",
   "execution_count": 39,
   "id": "73f3897f",
   "metadata": {},
   "outputs": [
    {
     "name": "stderr",
     "output_type": "stream",
     "text": [
      "100%|████████████████████████████████████████████████████████████████████████████████| 443/443 [00:15<00:00, 29.14it/s]\n"
     ]
    },
    {
     "data": {
      "image/png": "[encoded data removed]",
      "text/plain": [
       "<Figure size 640x480 with 2 Axes>"
      ]
     },
     "metadata": {},
     "output_type": "display_data"
    },
    {
     "data": {
      "image/png": "[encoded data removed]",
      "text/plain": [
       "<Figure size 600x500 with 2 Axes>"
      ]
     },
     "metadata": {},
     "output_type": "display_data"
    }
   ],
   "source": [
    "import torch\n",
    "import torch.nn.functional as F\n",
    "from sklearn.metrics import confusion_matrix, ConfusionMatrixDisplay\n",
    "import matplotlib.pyplot as plt\n",
    "import seaborn as sns\n",
    "import numpy as np\n",
    "import cv2\n",
    "from tqdm import tqdm\n",
    "\n",
    "# Assuming device, model, and test_loader are defined\n",
    "model.eval()\n",
    "all_preds = []\n",
    "all_labels = []\n",
    "\n",
    "with torch.no_grad():\n",
    "    for images, labels, _ in tqdm(test_loader):  # Adjust if 2 or 3 values\n",
    "        images = images.to(device)\n",
    "        labels = labels.to(device)\n",
    "\n",
    "        outputs = model(images)\n",
    "        preds = torch.argmax(outputs, dim=1)\n",
    "\n",
    "        all_preds.extend(preds.cpu().numpy())\n",
    "        all_labels.extend(labels.cpu().numpy())\n",
    "\n",
    "# Compute Confusion Matrix\n",
    "cm = confusion_matrix(all_labels, all_preds,labels=[0,1])\n",
    "disp = ConfusionMatrixDisplay(confusion_matrix=cm, display_labels=[\"Benign\", \"Malignant\"])\n",
    "disp.plot(cmap=plt.cm.Blues, values_format='d')\n",
    "plt.title(\"Confusion Matrix\")\n",
    "plt.show()\n",
    "\n",
    "# Optional: Confusion Matrix Heatmap\n",
    "plt.figure(figsize=(6, 5))\n",
    "sns.heatmap(cm, annot=True, fmt=\"d\", cmap=\"Blues\", xticklabels=[\"Benign\", \"Malignant\"], yticklabels=[\"Benign\", \"Malignant\"])\n",
    "plt.xlabel(\"Predicted\")\n",
    "plt.ylabel(\"Actual\")\n",
    "plt.title(\"Confusion Matrix Heatmap\")\n",
    "plt.show()\n"
   ]
  },
  {
   "cell_type": "code",
   "execution_count": 74,
   "id": "0223787d",
   "metadata": {},
   "outputs": [],
   "source": [
    "y_preds = []\n",
    "y_true = []\n",
    "\n",
    "model.eval()\n",
    "with torch.no_grad():\n",
    "    for images, labels, _ in test_loader:\n",
    "        images = images.to(device)\n",
    "        labels = labels.to(device)\n",
    "        outputs = model(images)\n",
    "        preds = torch.argmax(outputs, dim=1)\n",
    "        y_preds.extend(preds.cpu().numpy())\n",
    "        y_true.extend(labels.cpu().numpy())\n"
   ]
  },
  {
   "cell_type": "code",
   "execution_count": 75,
   "id": "87e793b3",
   "metadata": {
    "scrolled": false
   },
   "outputs": [
    {
     "name": "stderr",
     "output_type": "stream",
     "text": [
      "C:\\Users\\nalla\\anaconda3\\Lib\\site-packages\\torch\\nn\\modules\\module.py:1830: FutureWarning: Using a non-full backward hook when the forward contains multiple autograd Nodes is deprecated and will be removed in future versions. This hook will be missing some grad_input. Please use register_full_backward_hook to get the documented behavior.\n",
      "  self._maybe_warn_non_full_backward_hook(args, result, grad_fn)\n"
     ]
    },
    {
     "ename": "error",
     "evalue": "OpenCV(4.10.0) D:\\a\\opencv-python\\opencv-python\\opencv\\modules\\imgproc\\src\\resize.cpp:4152: error: (-215:Assertion failed) !ssize.empty() in function 'cv::resize'\n",
     "output_type": "error",
     "traceback": [
      "\u001b[1;31m---------------------------------------------------------------------------\u001b[0m",
      "\u001b[1;31merror\u001b[0m                                     Traceback (most recent call last)",
      "Cell \u001b[1;32mIn[75], line 54\u001b[0m\n\u001b[0;32m     52\u001b[0m sample_img \u001b[38;5;241m=\u001b[39m sample_img\u001b[38;5;241m.\u001b[39mto(device)\n\u001b[0;32m     53\u001b[0m cam \u001b[38;5;241m=\u001b[39m gradcam(sample_img)\n\u001b[1;32m---> 54\u001b[0m show_cam_on_image(img_path[\u001b[38;5;241m0\u001b[39m], cam)\n",
      "Cell \u001b[1;32mIn[75], line 41\u001b[0m, in \u001b[0;36mshow_cam_on_image\u001b[1;34m(img_path, cam)\u001b[0m\n\u001b[0;32m     39\u001b[0m \u001b[38;5;28;01mdef\u001b[39;00m \u001b[38;5;21mshow_cam_on_image\u001b[39m(img_path, cam):\n\u001b[0;32m     40\u001b[0m     img \u001b[38;5;241m=\u001b[39m cv2\u001b[38;5;241m.\u001b[39mimread(img_path)\n\u001b[1;32m---> 41\u001b[0m     img \u001b[38;5;241m=\u001b[39m cv2\u001b[38;5;241m.\u001b[39mresize(img, (\u001b[38;5;241m224\u001b[39m, \u001b[38;5;241m224\u001b[39m))\n\u001b[0;32m     42\u001b[0m     cam \u001b[38;5;241m=\u001b[39m np\u001b[38;5;241m.\u001b[39muint8(\u001b[38;5;241m255\u001b[39m \u001b[38;5;241m*\u001b[39m cam)\n\u001b[0;32m     43\u001b[0m     heatmap \u001b[38;5;241m=\u001b[39m cv2\u001b[38;5;241m.\u001b[39mapplyColorMap(cam, cv2\u001b[38;5;241m.\u001b[39mCOLORMAP_JET)\n",
      "\u001b[1;31merror\u001b[0m: OpenCV(4.10.0) D:\\a\\opencv-python\\opencv-python\\opencv\\modules\\imgproc\\src\\resize.cpp:4152: error: (-215:Assertion failed) !ssize.empty() in function 'cv::resize'\n"
     ]
    }
   ],
   "source": [
    "# Grad-CAM\n",
    "class GradCAM:\n",
    "    def __init__(self, model, target_layer):\n",
    "        self.model = model\n",
    "        self.target_layer = target_layer\n",
    "        self.gradients = None\n",
    "        self.activations = None\n",
    "        self.hook()\n",
    "\n",
    "    def hook(self):\n",
    "        def forward_hook(module, input, output):\n",
    "            self.activations = output.detach()\n",
    "        def backward_hook(module, grad_in, grad_out):\n",
    "            self.gradients = grad_out[0].detach()\n",
    "        self.target_layer.register_forward_hook(forward_hook)\n",
    "        self.target_layer.register_backward_hook(backward_hook)\n",
    "\n",
    "    def __call__(self, input_tensor, target_class=None):\n",
    "        self.model.eval()\n",
    "        output = self.model(input_tensor)\n",
    "        if target_class is None:\n",
    "            target_class = output.argmax().item()\n",
    "\n",
    "        loss = output[0, target_class]\n",
    "        self.model.zero_grad()\n",
    "        loss.backward()\n",
    "\n",
    "        pooled_grads = self.gradients.mean(dim=[0, 2, 3])\n",
    "        cam = (pooled_grads[:, None, None] * self.activations[0]).sum(dim=0)\n",
    "\n",
    "        cam = torch.relu(cam)\n",
    "        cam -= cam.min()\n",
    "        cam /= cam.max() + 1e-8  # Prevent division by zero\n",
    "        cam = cam.cpu().numpy()\n",
    "        cam = cv2.resize(cam, (224, 224))\n",
    "        return cam\n",
    "\n",
    "# Visualize Grad-CAM\n",
    "def show_cam_on_image(img_path, cam):\n",
    "    img = cv2.imread(img_path)\n",
    "    img = cv2.resize(img, (224, 224))\n",
    "    cam = np.uint8(255 * cam)\n",
    "    heatmap = cv2.applyColorMap(cam, cv2.COLORMAP_JET)\n",
    "    superimposed = cv2.addWeighted(img, 0.5, heatmap, 0.5, 0)\n",
    "    plt.imshow(cv2.cvtColor(superimposed, cv2.COLOR_BGR2RGB))\n",
    "    plt.axis('off')\n",
    "    plt.show()\n",
    "\n",
    "# Run Grad-CAM\n",
    "gradcam = GradCAM(model, model.layer4[1].conv2)\n",
    "sample_img, _, img_path = next(iter(test_loader))\n",
    "sample_img = sample_img.to(device)\n",
    "cam = gradcam(sample_img)\n",
    "show_cam_on_image(img_path[0], cam)\n"
   ]
  },
  {
   "cell_type": "code",
   "execution_count": null,
   "id": "50afbc0a",
   "metadata": {},
   "outputs": [],
   "source": [
    "import torch\n",
    "import numpy as np\n",
    "import cv2\n",
    "import matplotlib.pyplot as plt\n",
    "\n",
    "class GradCAM:\n",
    "    def __init__(self, model, target_layer):\n",
    "        self.model = model\n",
    "        self.target_layer = target_layer\n",
    "\n",
    "        self.gradients = None\n",
    "        self.activations = None\n",
    "\n",
    "        # Hook for activations\n",
    "        self.target_layer.register_forward_hook(self.save_activation)\n",
    "        # Hook for gradients\n",
    "        self.target_layer.register_backward_hook(self.save_gradient)\n",
    "\n",
    "    def save_activation(self, module, input, output):\n",
    "        self.activations = output.detach()\n",
    "\n",
    "    def save_gradient(self, module, grad_input, grad_output):\n",
    "        self.gradients = grad_output[0].detach()\n",
    "\n",
    "    def generate(self, input_tensor, class_idx=None):\n",
    "        self.model.eval()\n",
    "        output = self.model(input_tensor)\n",
    "\n",
    "        if class_idx is None:\n",
    "            class_idx = output.argmax(dim=1).item()\n",
    "\n",
    "        loss = output[:, class_idx]\n",
    "        self.model.zero_grad()\n",
    "        loss.backward()\n",
    "\n",
    "        # Grad-CAM calculation\n",
    "        gradients = self.gradients\n",
    "        activations = self.activations\n",
    "        b, k, u, v = gradients.size()\n",
    "\n",
    "        alpha = gradients.view(b, k, -1).mean(2)\n",
    "        weights = alpha.view(b, k, 1, 1)\n",
    "\n",
    "        cam = (weights * activations).sum(1, keepdim=True)\n",
    "        cam = torch.relu(cam)\n",
    "        cam = cam.squeeze().cpu().numpy()\n",
    "\n",
    "        # Normalize between 0-1\n",
    "        cam = cam - np.min(cam)\n",
    "        cam = cam / np.max(cam)\n",
    "        return cam\n",
    "\n",
    "def show_cam_on_image(img_tensor, cam):\n",
    "    img = img_tensor.squeeze(0).permute(1, 2, 0).cpu().numpy()\n",
    "    img = np.uint8(255 * img)\n",
    "    img = cv2.resize(img, (224, 224))\n",
    "\n",
    "    cam = np.uint8(255 * cam)\n",
    "    cam = cv2.resize(cam, (224, 224))  # make sure same size!\n",
    "    cam = cv2.applyColorMap(cam, cv2.COLORMAP_JET)\n",
    "\n",
    "    if len(img.shape) == 2:  # if img is grayscale, convert to 3 channels\n",
    "        img = cv2.cvtColor(img, cv2.COLOR_GRAY2BGR)\n",
    "\n",
    "    overlay = cv2.addWeighted(cam, 0.5, img, 0.5, 0)\n",
    "    plt.imshow(cv2.cvtColor(overlay, cv2.COLOR_BGR2RGB))\n",
    "    plt.axis('off')\n",
    "    plt.show()\n",
    "\n",
    "\n"
   ]
  },
  {
   "cell_type": "code",
   "execution_count": null,
   "id": "fec3fa78",
   "metadata": {},
   "outputs": [],
   "source": [
    "# Create GradCAM object\n",
    "gradcam = GradCAM(model, model.layer4[-1])  # Example: last layer of ResNet\n",
    "\n",
    "# Forward one sample\n",
    "sample_img = sample_img.to(device)\n",
    "\n",
    "# Generate Grad-CAM\n",
    "cam = gradcam.generate(sample_img)\n",
    "\n",
    "\n",
    "# Show the CAM overlay\n",
    "show_cam_on_image(sample_img, cam)\n",
    "\n"
   ]
  },
  {
   "cell_type": "code",
   "execution_count": null,
   "id": "726abfd1",
   "metadata": {
    "scrolled": true
   },
   "outputs": [],
   "source": [
    "print(f\"Shape of sample_img: {sample_img.shape}\")\n"
   ]
  },
  {
   "cell_type": "code",
   "execution_count": 70,
   "id": "a07d650a",
   "metadata": {},
   "outputs": [
    {
     "name": "stdout",
     "output_type": "stream",
     "text": [
      "Input shape before passing to model: torch.Size([1, 9, 224, 224])\n"
     ]
    },
    {
     "ename": "RuntimeError",
     "evalue": "requested resize to 1x3x224x224 (150528 elements in total), but the given tensor has a size of 1x9x224x224 (451584 elements). autograd's resize can only change the shape of a given tensor, while preserving the number of elements. ",
     "output_type": "error",
     "traceback": [
      "\u001b[1;31m---------------------------------------------------------------------------\u001b[0m",
      "\u001b[1;31mRuntimeError\u001b[0m                              Traceback (most recent call last)",
      "Cell \u001b[1;32mIn[70], line 17\u001b[0m\n\u001b[0;32m     15\u001b[0m \u001b[38;5;66;03m# If the input has a single channel (1 channel), repeat to make it 3 channels\u001b[39;00m\n\u001b[0;32m     16\u001b[0m \u001b[38;5;28;01mif\u001b[39;00m sample_img\u001b[38;5;241m.\u001b[39mshape[\u001b[38;5;241m1\u001b[39m] \u001b[38;5;241m==\u001b[39m \u001b[38;5;241m9\u001b[39m:  \u001b[38;5;66;03m# If single channel (grayscale)\u001b[39;00m\n\u001b[1;32m---> 17\u001b[0m     sample_img \u001b[38;5;241m=\u001b[39m sample_img\u001b[38;5;241m.\u001b[39mresize(\u001b[38;5;241m1\u001b[39m, \u001b[38;5;241m3\u001b[39m, \u001b[38;5;241m224\u001b[39m, \u001b[38;5;241m224\u001b[39m)  \u001b[38;5;66;03m# Repeat to create 3 channels (RGB)\u001b[39;00m\n\u001b[0;32m     19\u001b[0m \u001b[38;5;66;03m# Double check: Ensure the shape is now [1, 3, 224, 224]\u001b[39;00m\n\u001b[0;32m     20\u001b[0m \u001b[38;5;28mprint\u001b[39m(\u001b[38;5;124mf\u001b[39m\u001b[38;5;124m\"\u001b[39m\u001b[38;5;124mInput shape after channel adjustment (if needed): \u001b[39m\u001b[38;5;132;01m{\u001b[39;00msample_img\u001b[38;5;241m.\u001b[39mshape\u001b[38;5;132;01m}\u001b[39;00m\u001b[38;5;124m\"\u001b[39m)\n",
      "File \u001b[1;32m~\\anaconda3\\Lib\\site-packages\\torch\\_tensor.py:1003\u001b[0m, in \u001b[0;36mTensor.resize\u001b[1;34m(self, *sizes)\u001b[0m\n\u001b[0;32m   1000\u001b[0m warnings\u001b[38;5;241m.\u001b[39mwarn(\u001b[38;5;124m\"\u001b[39m\u001b[38;5;124mnon-inplace resize is deprecated\u001b[39m\u001b[38;5;124m\"\u001b[39m)\n\u001b[0;32m   1001\u001b[0m \u001b[38;5;28;01mfrom\u001b[39;00m \u001b[38;5;21;01mtorch\u001b[39;00m\u001b[38;5;21;01m.\u001b[39;00m\u001b[38;5;21;01mautograd\u001b[39;00m\u001b[38;5;21;01m.\u001b[39;00m\u001b[38;5;21;01m_functions\u001b[39;00m \u001b[38;5;28;01mimport\u001b[39;00m Resize\n\u001b[1;32m-> 1003\u001b[0m \u001b[38;5;28;01mreturn\u001b[39;00m Resize\u001b[38;5;241m.\u001b[39mapply(\u001b[38;5;28mself\u001b[39m, sizes)\n",
      "File \u001b[1;32m~\\anaconda3\\Lib\\site-packages\\torch\\autograd\\function.py:575\u001b[0m, in \u001b[0;36mFunction.apply\u001b[1;34m(cls, *args, **kwargs)\u001b[0m\n\u001b[0;32m    572\u001b[0m \u001b[38;5;28;01mif\u001b[39;00m \u001b[38;5;129;01mnot\u001b[39;00m torch\u001b[38;5;241m.\u001b[39m_C\u001b[38;5;241m.\u001b[39m_are_functorch_transforms_active():\n\u001b[0;32m    573\u001b[0m     \u001b[38;5;66;03m# See NOTE: [functorch vjp and autograd interaction]\u001b[39;00m\n\u001b[0;32m    574\u001b[0m     args \u001b[38;5;241m=\u001b[39m _functorch\u001b[38;5;241m.\u001b[39mutils\u001b[38;5;241m.\u001b[39munwrap_dead_wrappers(args)\n\u001b[1;32m--> 575\u001b[0m     \u001b[38;5;28;01mreturn\u001b[39;00m \u001b[38;5;28msuper\u001b[39m()\u001b[38;5;241m.\u001b[39mapply(\u001b[38;5;241m*\u001b[39margs, \u001b[38;5;241m*\u001b[39m\u001b[38;5;241m*\u001b[39mkwargs)  \u001b[38;5;66;03m# type: ignore[misc]\u001b[39;00m\n\u001b[0;32m    577\u001b[0m \u001b[38;5;28;01mif\u001b[39;00m \u001b[38;5;129;01mnot\u001b[39;00m is_setup_ctx_defined:\n\u001b[0;32m    578\u001b[0m     \u001b[38;5;28;01mraise\u001b[39;00m \u001b[38;5;167;01mRuntimeError\u001b[39;00m(\n\u001b[0;32m    579\u001b[0m         \u001b[38;5;124m\"\u001b[39m\u001b[38;5;124mIn order to use an autograd.Function with functorch transforms \u001b[39m\u001b[38;5;124m\"\u001b[39m\n\u001b[0;32m    580\u001b[0m         \u001b[38;5;124m\"\u001b[39m\u001b[38;5;124m(vmap, grad, jvp, jacrev, ...), it must override the setup_context \u001b[39m\u001b[38;5;124m\"\u001b[39m\n\u001b[0;32m    581\u001b[0m         \u001b[38;5;124m\"\u001b[39m\u001b[38;5;124mstaticmethod. For more details, please see \u001b[39m\u001b[38;5;124m\"\u001b[39m\n\u001b[0;32m    582\u001b[0m         \u001b[38;5;124m\"\u001b[39m\u001b[38;5;124mhttps://pytorch.org/docs/main/notes/extending.func.html\u001b[39m\u001b[38;5;124m\"\u001b[39m\n\u001b[0;32m    583\u001b[0m     )\n",
      "File \u001b[1;32m~\\anaconda3\\Lib\\site-packages\\torch\\autograd\\_functions\\tensor.py:39\u001b[0m, in \u001b[0;36mResize.forward\u001b[1;34m(ctx, tensor, sizes)\u001b[0m\n\u001b[0;32m     37\u001b[0m ctx\u001b[38;5;241m.\u001b[39mnumel \u001b[38;5;241m=\u001b[39m reduce(operator\u001b[38;5;241m.\u001b[39mmul, sizes, \u001b[38;5;241m1\u001b[39m)\n\u001b[0;32m     38\u001b[0m \u001b[38;5;28;01mif\u001b[39;00m tensor\u001b[38;5;241m.\u001b[39mnumel() \u001b[38;5;241m!=\u001b[39m ctx\u001b[38;5;241m.\u001b[39mnumel:\n\u001b[1;32m---> 39\u001b[0m     \u001b[38;5;28;01mraise\u001b[39;00m \u001b[38;5;167;01mRuntimeError\u001b[39;00m(\n\u001b[0;32m     40\u001b[0m         (\n\u001b[0;32m     41\u001b[0m             \u001b[38;5;124m\"\u001b[39m\u001b[38;5;124mrequested resize to \u001b[39m\u001b[38;5;132;01m{}\u001b[39;00m\u001b[38;5;124m (\u001b[39m\u001b[38;5;132;01m{}\u001b[39;00m\u001b[38;5;124m elements in total), \u001b[39m\u001b[38;5;124m\"\u001b[39m\n\u001b[0;32m     42\u001b[0m             \u001b[38;5;124m\"\u001b[39m\u001b[38;5;124mbut the given tensor has a size of \u001b[39m\u001b[38;5;132;01m{}\u001b[39;00m\u001b[38;5;124m (\u001b[39m\u001b[38;5;132;01m{}\u001b[39;00m\u001b[38;5;124m elements). \u001b[39m\u001b[38;5;124m\"\u001b[39m\n\u001b[0;32m     43\u001b[0m             \u001b[38;5;124m\"\u001b[39m\u001b[38;5;124mautograd\u001b[39m\u001b[38;5;124m'\u001b[39m\u001b[38;5;124ms resize can only change the shape of a given \u001b[39m\u001b[38;5;124m\"\u001b[39m\n\u001b[0;32m     44\u001b[0m             \u001b[38;5;124m\"\u001b[39m\u001b[38;5;124mtensor, while preserving the number of elements. \u001b[39m\u001b[38;5;124m\"\u001b[39m\n\u001b[0;32m     45\u001b[0m         )\u001b[38;5;241m.\u001b[39mformat(\n\u001b[0;32m     46\u001b[0m             \u001b[38;5;124m\"\u001b[39m\u001b[38;5;124mx\u001b[39m\u001b[38;5;124m\"\u001b[39m\u001b[38;5;241m.\u001b[39mjoin(\u001b[38;5;28mmap\u001b[39m(\u001b[38;5;28mstr\u001b[39m, sizes)),\n\u001b[0;32m     47\u001b[0m             ctx\u001b[38;5;241m.\u001b[39mnumel,\n\u001b[0;32m     48\u001b[0m             \u001b[38;5;124m\"\u001b[39m\u001b[38;5;124mx\u001b[39m\u001b[38;5;124m\"\u001b[39m\u001b[38;5;241m.\u001b[39mjoin(\u001b[38;5;28mmap\u001b[39m(\u001b[38;5;28mstr\u001b[39m, tensor\u001b[38;5;241m.\u001b[39msize())),\n\u001b[0;32m     49\u001b[0m             tensor\u001b[38;5;241m.\u001b[39mnumel(),\n\u001b[0;32m     50\u001b[0m         )\n\u001b[0;32m     51\u001b[0m     )\n\u001b[0;32m     52\u001b[0m ctx\u001b[38;5;241m.\u001b[39minput_sizes \u001b[38;5;241m=\u001b[39m tensor\u001b[38;5;241m.\u001b[39msize()\n\u001b[0;32m     53\u001b[0m \u001b[38;5;28;01mif\u001b[39;00m tensor\u001b[38;5;241m.\u001b[39mis_quantized:\n",
      "\u001b[1;31mRuntimeError\u001b[0m: requested resize to 1x3x224x224 (150528 elements in total), but the given tensor has a size of 1x9x224x224 (451584 elements). autograd's resize can only change the shape of a given tensor, while preserving the number of elements. "
     ]
    }
   ],
   "source": [
    "import cv2\n",
    "import numpy as np\n",
    "import torch\n",
    "import torch.nn.functional as F\n",
    "\n",
    "# Assuming `gradcam` is the Grad-CAM object initialized earlier.\n",
    "# and `model` is the pre-trained model (e.g., ResNet).\n",
    "\n",
    "# Ensure the sample image is on the correct device (GPU/CPU)\n",
    "sample_img = sample_img.to(device)\n",
    "\n",
    "# Check the input shape (must be [1, 3, 224, 224])\n",
    "print(f\"Input shape before passing to model: {sample_img.shape}\")\n",
    "\n",
    "# If the input has a single channel (1 channel), repeat to make it 3 channels\n",
    "if sample_img.shape[1] == 9:  # If single channel (grayscale)\n",
    "    sample_img = sample_img.resize(1, 3, 224, 224)  # Repeat to create 3 channels (RGB)\n",
    "\n",
    "# Double check: Ensure the shape is now [1, 3, 224, 224]\n",
    "print(f\"Input shape after channel adjustment (if needed): {sample_img.shape}\")\n",
    "\n",
    "# Generate Grad-CAM\n",
    "cam = gradcam.generate(sample_img)\n",
    "\n",
    "# Convert to numpy arrays for overlay\n",
    "img = sample_img[0].cpu().detach().numpy()  # Get the numpy array from tensor\n",
    "\n",
    "# Ensure the image is in HWC format for OpenCV (height, width, channels)\n",
    "img = np.transpose(img, (1, 2, 0))  # Convert from CHW to HWC\n",
    "img = cv2.resize(img, (512, 512))  # Resize to match Grad-CAM size\n",
    "cam = cv2.resize(cam, (512, 512))  # Resize Grad-CAM to match image size\n",
    "\n",
    "# Normalize CAM to be between 0 and 255\n",
    "cam = np.uint8(255 * cam / np.max(cam))\n",
    "\n",
    "# Create an overlay\n",
    "overlay = cv2.addWeighted(cam, 0.3, img, 0.7, 0)\n",
    "\n",
    "# Show the CAM overlay\n",
    "show_cam_on_image(sample_img[0], cam)  # Ensure this function is defined correctly\n"
   ]
  },
  {
   "cell_type": "code",
   "execution_count": 36,
   "id": "6db6cd75",
   "metadata": {},
   "outputs": [],
   "source": [
    "from PIL import Image\n",
    "\n",
    "def show_cam_on_image(img_path, cam):\n",
    "    img = Image.open(img_path).convert(\"RGB\")\n",
    "    img = img.resize((224, 224))\n",
    "    img = np.array(img)\n",
    "    cam = np.uint8(255 * cam)\n",
    "    heatmap = cv2.applyColorMap(cam, cv2.COLORMAP_JET)\n",
    "    superimposed = cv2.addWeighted(img, 0.5, heatmap, 0.5, 0)\n",
    "    plt.imshow(cv2.cvtColor(superimposed, cv2.COLOR_BGR2RGB))\n",
    "    plt.axis('off')\n",
    "    \n"
   ]
  },
  {
   "cell_type": "code",
   "execution_count": null,
   "id": "a4348095",
   "metadata": {},
   "outputs": [],
   "source": []
  },
  {
   "cell_type": "code",
   "execution_count": 37,
   "id": "9ab2c556",
   "metadata": {},
   "outputs": [],
   "source": [
    "plt.show()"
   ]
  },
  {
   "cell_type": "code",
   "execution_count": 38,
   "id": "e4c5410d",
   "metadata": {},
   "outputs": [
    {
     "name": "stdout",
     "output_type": "stream",
     "text": [
      "C:\\Users\\nalla\\OneDrive\\ドキュメント\\Research data sets\\dataset\\170_030_174751.jpg\n",
      "True\n"
     ]
    }
   ],
   "source": [
    "print(img_path[0])\n",
    "print(os.path.exists(img_path[0]))\n",
    "%matplotlib inline\n"
   ]
  },
  {
   "cell_type": "code",
   "execution_count": null,
   "id": "7026b322",
   "metadata": {},
   "outputs": [],
   "source": []
  }
 ],
 "metadata": {
  "kernelspec": {
   "display_name": "Python 3 (ipykernel)",
   "language": "python",
   "name": "python3"
  },
  "language_info": {
   "codemirror_mode": {
    "name": "ipython",
    "version": 3
   },
   "file_extension": ".py",
   "mimetype": "text/x-python",
   "name": "python",
   "nbconvert_exporter": "python",
   "pygments_lexer": "ipython3",
   "version": "3.11.7"
  }
 },
 "nbformat": 4,
 "nbformat_minor": 5
}
